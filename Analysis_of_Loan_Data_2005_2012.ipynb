{
 "cells": [
  {
   "cell_type": "markdown",
   "metadata": {},
   "source": [
    "# Summarization year 2005-2012"
   ]
  },
  {
   "cell_type": "code",
   "execution_count": 2,
   "metadata": {
    "collapsed": false
   },
   "outputs": [],
   "source": [
    "import numpy as np\n",
    "import pandas as pd\n",
    "import matplotlib.pyplot as plt\n",
    "import matplotlib\n",
    "import seaborn as sns\n",
    "pd.options.display.max_columns = 999\n",
    "%matplotlib inline\n",
    "pd.options.display.max_columns=200\n",
    "matplotlib.rcParams['figure.figsize'] = (15.0, 12.0)\n",
    "import warnings\n",
    "warnings.filterwarnings('ignore')"
   ]
  },
  {
   "cell_type": "code",
   "execution_count": 3,
   "metadata": {
    "collapsed": false
   },
   "outputs": [],
   "source": [
    "# Read the data inside:\n",
    "loan2005 = pd.read_csv('./processed/summary_2005.csv')\n",
    "loan2006 = pd.read_csv('./processed/summary_2006.csv')\n",
    "loan2007 = pd.read_csv('./processed/summary_2007.csv')\n",
    "loan2008 = pd.read_csv('./processed/summary_2008.csv')\n",
    "loan2009 = pd.read_csv('./processed/summary_2009.csv')\n",
    "loan2010 = pd.read_csv('./processed/summary_2010.csv')\n",
    "loan2011 = pd.read_csv('./processed/summary_2011.csv')\n",
    "loan2012 = pd.read_csv('./processed/summary_2012.csv')"
   ]
  },
  {
   "cell_type": "markdown",
   "metadata": {},
   "source": [
    "### Let's look at data"
   ]
  },
  {
   "cell_type": "code",
   "execution_count": 4,
   "metadata": {
    "collapsed": false
   },
   "outputs": [],
   "source": [
    "#creating dictionary for all years\n",
    "loan = {'2005':loan2005,'2006':loan2006,'2007':loan2007, '2008': loan2008, '2009': loan2009,'2010': loan2010,'2011': loan2011,'2012': loan2012}"
   ]
  },
  {
   "cell_type": "code",
   "execution_count": 5,
   "metadata": {
    "collapsed": false
   },
   "outputs": [],
   "source": [
    "years = []\n",
    "prepaid = {}\n",
    "default = {}\n",
    "loan_num = {}\n",
    "\n",
    "for key in loan.keys():\n",
    "    temp_size =len(loan[key])\n",
    "    temp_count = loan[key].groupby('ZERO_BALANCE_CODE')['LOAN_SEQUENCE_NUMBER'].count()\n",
    "    #print(temp_size)\n",
    "    loan_num[key] = temp_size\n",
    "    prepaid[key] = temp_count[1]/temp_size\n",
    "    default[key] = 1 - sum(temp_count[0:2])/temp_size\n"
   ]
  },
  {
   "cell_type": "markdown",
   "metadata": {},
   "source": [
    "### How many morgages have been prepaid in these years?"
   ]
  },
  {
   "cell_type": "code",
   "execution_count": 6,
   "metadata": {
    "collapsed": false,
    "scrolled": true
   },
   "outputs": [
    {
     "data": {
      "image/png": "[encoded data removed]",
      "text/plain": [
       "<matplotlib.figure.Figure at 0x1248084e0>"
      ]
     },
     "metadata": {},
     "output_type": "display_data"
    }
   ],
   "source": [
    "def plot_dict_bar(val_dict):\n",
    "    x_axis = sorted(list(val_dict.keys()))\n",
    "    y_axis = [val_dict[key] for key in x_axis]\n",
    "    x = np.arange(8) - 0.175\n",
    "    y = np.array(y_axis)*100\n",
    "    fig, ax  = plt.subplots()\n",
    "    ax.bar(x,y,0.35)\n",
    "    ax.set_xticks(np.arange(8))\n",
    "    ax.set_xticklabels(x_axis)\n",
    "    ax.set_xlabel(\"Year\")\n",
    "    ax.set_ylabel(\"Percentage (%)\")\n",
    "    ax.set_title(\"Prepaid Ratio\")\n",
    "    plt.show()\n",
    "    \n",
    "plot_dict_bar(prepaid)"
   ]
  },
  {
   "cell_type": "markdown",
   "metadata": {},
   "source": [
    " #The prepaid ratio is lower in 2007 due to economic depression. #https://en.wikipedia.org/wiki/Financial_crisis_of_2007%E2%80%932008"
   ]
  },
  {
   "cell_type": "markdown",
   "metadata": {},
   "source": [
    "###### Default Rate? \n",
    "#zero_balance_code vales 3, 9 and 6"
   ]
  },
  {
   "cell_type": "code",
   "execution_count": 7,
   "metadata": {
    "collapsed": false
   },
   "outputs": [
    {
     "data": {
      "image/png": "[encoded data removed]",
      "text/plain": [
       "<matplotlib.figure.Figure at 0x1180fa438>"
      ]
     },
     "metadata": {},
     "output_type": "display_data"
    }
   ],
   "source": [
    "def plot_dict_bar(val_dict):\n",
    "    x_axis = sorted(list(val_dict.keys()))\n",
    "    y_axis = [val_dict[key] for key in x_axis]\n",
    "    x = np.arange(8) - 0.175\n",
    "    y = np.array(y_axis)*100\n",
    "    fig, ax  = plt.subplots()\n",
    "    ax.bar(x,y,0.35)\n",
    "    ax.set_xticks(np.arange(8))\n",
    "    ax.set_xticklabels(x_axis)\n",
    "    ax.set_xlabel(\"Year\")\n",
    "    ax.set_ylabel(\"Percentage (%)\")\n",
    "    ax.set_title(\"Default Ratio\")\n",
    "    plt.show()\n",
    "    \n",
    "plot_dict_bar(default)"
   ]
  },
  {
   "cell_type": "markdown",
   "metadata": {},
   "source": [
    "'''Default rate is very high in 2007 due to economic recession due to subprime lending. More details on https://en.wikipedia.org/wiki/United_States_housing_bubble '''"
   ]
  },
  {
   "cell_type": "code",
   "execution_count": 8,
   "metadata": {
    "collapsed": false
   },
   "outputs": [
    {
     "data": {
      "text/html": [
       "<div>\n",
       "<table border=\"1\" class=\"dataframe\">\n",
       "  <thead>\n",
       "    <tr style=\"text-align: right;\">\n",
       "      <th></th>\n",
       "      <th>2005</th>\n",
       "      <th>2006</th>\n",
       "      <th>2007</th>\n",
       "      <th>2008</th>\n",
       "      <th>2009</th>\n",
       "      <th>2010</th>\n",
       "      <th>2011</th>\n",
       "      <th>2012</th>\n",
       "    </tr>\n",
       "  </thead>\n",
       "  <tbody>\n",
       "    <tr>\n",
       "      <th>Current</th>\n",
       "      <td>70.340034</td>\n",
       "      <td>71.572202</td>\n",
       "      <td>72.962060</td>\n",
       "      <td>71.072662</td>\n",
       "      <td>66.086471</td>\n",
       "      <td>66.637455</td>\n",
       "      <td>67.063653</td>\n",
       "      <td>67.849075</td>\n",
       "    </tr>\n",
       "    <tr>\n",
       "      <th>Default</th>\n",
       "      <td>77.636076</td>\n",
       "      <td>78.092807</td>\n",
       "      <td>81.194591</td>\n",
       "      <td>79.293714</td>\n",
       "      <td>74.904306</td>\n",
       "      <td>73.734928</td>\n",
       "      <td>74.923166</td>\n",
       "      <td>78.650926</td>\n",
       "    </tr>\n",
       "    <tr>\n",
       "      <th>Prepaid</th>\n",
       "      <td>68.681565</td>\n",
       "      <td>69.749956</td>\n",
       "      <td>70.791921</td>\n",
       "      <td>69.635895</td>\n",
       "      <td>65.164579</td>\n",
       "      <td>66.175585</td>\n",
       "      <td>67.669442</td>\n",
       "      <td>68.155163</td>\n",
       "    </tr>\n",
       "  </tbody>\n",
       "</table>\n",
       "</div>"
      ],
      "text/plain": [
       "              2005       2006       2007       2008       2009       2010  \\\n",
       "Current  70.340034  71.572202  72.962060  71.072662  66.086471  66.637455   \n",
       "Default  77.636076  78.092807  81.194591  79.293714  74.904306  73.734928   \n",
       "Prepaid  68.681565  69.749956  70.791921  69.635895  65.164579  66.175585   \n",
       "\n",
       "              2011       2012  \n",
       "Current  67.063653  67.849075  \n",
       "Default  74.923166  78.650926  \n",
       "Prepaid  67.669442  68.155163  "
      ]
     },
     "execution_count": 8,
     "metadata": {},
     "output_type": "execute_result"
    }
   ],
   "source": [
    "years = []\n",
    "loan_to_value = {}\n",
    "\n",
    "for key in loan.keys():\n",
    "    temp_ltv = {}\n",
    "    temp_mean = loan[key].groupby('ZERO_BALANCE_CODE')['ORIGINAL_LOAN_TO_VALUE'].mean()\n",
    "    temp_ltv['Current'] = temp_mean[0]\n",
    "    temp_ltv['Prepaid'] = temp_mean[1]\n",
    "    temp_ltv['Default'] = np.mean(temp_mean[2:])\n",
    "    loan_to_value[key] = temp_ltv\n",
    "\n",
    "result = pd.DataFrame.from_dict(loan_to_value)\n",
    "result.head()"
   ]
  },
  {
   "cell_type": "markdown",
   "metadata": {},
   "source": [
    "It is very interesting to find out that \"default\" loans tends to have slightly higher original-loan-to-value (OLTV) ratio on average, meaning they tends to have lower downpayment."
   ]
  },
  {
   "cell_type": "code",
   "execution_count": 9,
   "metadata": {
    "collapsed": false
   },
   "outputs": [
    {
     "data": {
      "text/html": [
       "<div>\n",
       "<table border=\"1\" class=\"dataframe\">\n",
       "  <thead>\n",
       "    <tr style=\"text-align: right;\">\n",
       "      <th></th>\n",
       "      <th>2005</th>\n",
       "      <th>2006</th>\n",
       "      <th>2007</th>\n",
       "      <th>2008</th>\n",
       "      <th>2009</th>\n",
       "      <th>2010</th>\n",
       "      <th>2011</th>\n",
       "      <th>2012</th>\n",
       "    </tr>\n",
       "  </thead>\n",
       "  <tbody>\n",
       "    <tr>\n",
       "      <th>Current</th>\n",
       "      <td>707.196319</td>\n",
       "      <td>699.357929</td>\n",
       "      <td>698.345940</td>\n",
       "      <td>718.774209</td>\n",
       "      <td>756.823855</td>\n",
       "      <td>760.477886</td>\n",
       "      <td>762.172374</td>\n",
       "      <td>766.669459</td>\n",
       "    </tr>\n",
       "    <tr>\n",
       "      <th>Default</th>\n",
       "      <td>689.307503</td>\n",
       "      <td>688.914632</td>\n",
       "      <td>688.520338</td>\n",
       "      <td>701.694752</td>\n",
       "      <td>725.992505</td>\n",
       "      <td>735.517065</td>\n",
       "      <td>733.797867</td>\n",
       "      <td>751.500000</td>\n",
       "    </tr>\n",
       "    <tr>\n",
       "      <th>Prepaid</th>\n",
       "      <td>728.963012</td>\n",
       "      <td>729.245342</td>\n",
       "      <td>731.388331</td>\n",
       "      <td>746.393766</td>\n",
       "      <td>764.107736</td>\n",
       "      <td>764.583181</td>\n",
       "      <td>765.212708</td>\n",
       "      <td>766.265150</td>\n",
       "    </tr>\n",
       "  </tbody>\n",
       "</table>\n",
       "</div>"
      ],
      "text/plain": [
       "               2005        2006        2007        2008        2009  \\\n",
       "Current  707.196319  699.357929  698.345940  718.774209  756.823855   \n",
       "Default  689.307503  688.914632  688.520338  701.694752  725.992505   \n",
       "Prepaid  728.963012  729.245342  731.388331  746.393766  764.107736   \n",
       "\n",
       "               2010        2011        2012  \n",
       "Current  760.477886  762.172374  766.669459  \n",
       "Default  735.517065  733.797867  751.500000  \n",
       "Prepaid  764.583181  765.212708  766.265150  "
      ]
     },
     "execution_count": 9,
     "metadata": {},
     "output_type": "execute_result"
    }
   ],
   "source": [
    "years = []\n",
    "credit_score = {}\n",
    "\n",
    "for key in loan.keys():\n",
    "    temp_cscore = {}\n",
    "    loan[key]['CREDIT_SCORE']=loan[key]['CREDIT_SCORE'].convert_objects(convert_numeric=True)\n",
    "    temp_mean = loan[key].groupby('ZERO_BALANCE_CODE')['CREDIT_SCORE'].mean()\n",
    "    temp_cscore['Current'] = temp_mean[0]\n",
    "    temp_cscore['Prepaid'] = temp_mean[1]\n",
    "    temp_cscore['Default'] = np.mean(temp_mean[2:])\n",
    "    credit_score[key] = temp_cscore\n",
    "\n",
    "result2 = pd.DataFrame.from_dict(credit_score)\n",
    "result2.head()"
   ]
  },
  {
   "cell_type": "markdown",
   "metadata": {},
   "source": [
    "Again, it is very interesting to find that default loans tend to have slightly lower credit score, on average."
   ]
  },
  {
   "cell_type": "code",
   "execution_count": 10,
   "metadata": {
    "collapsed": false
   },
   "outputs": [],
   "source": [
    "# Last one, default by states...\n",
    "years = []\n",
    "state_res = {}\n",
    "\n",
    "for key in loan.keys():\n",
    "    temp_state_count = loan[key][(loan[key]['ZERO_BALANCE_CODE'] == 3) | (loan[key]['ZERO_BALANCE_CODE'] == 6) | (loan[key]['ZERO_BALANCE_CODE'] == 9)].groupby('PROPERTY_STATE')['LOAN_SEQUENCE_NUMBER'].count()\n",
    "    \n",
    "    states = list(temp_state_count.index)\n",
    "    \n",
    "    for state in states:\n",
    "        if state_res.get(state) == None:\n",
    "            state_res[state] = temp_state_count[state]\n",
    "        else:\n",
    "            state_res[state] = state_res[state] + temp_state_count[state]\n",
    "    \n",
    "\n",
    "total_state_res = pd.DataFrame.from_dict(state_res, orient='index')\n",
    "\n",
    "total_state_res.columns=['Default']"
   ]
  },
  {
   "cell_type": "code",
   "execution_count": 108,
   "metadata": {
    "collapsed": false
   },
   "outputs": [
    {
     "data": {
      "text/html": [
       "<div>\n",
       "<table border=\"1\" class=\"dataframe\">\n",
       "  <thead>\n",
       "    <tr style=\"text-align: right;\">\n",
       "      <th></th>\n",
       "      <th>Default</th>\n",
       "    </tr>\n",
       "  </thead>\n",
       "  <tbody>\n",
       "    <tr>\n",
       "      <th>FL</th>\n",
       "      <td>2293</td>\n",
       "    </tr>\n",
       "    <tr>\n",
       "      <th>CA</th>\n",
       "      <td>1602</td>\n",
       "    </tr>\n",
       "    <tr>\n",
       "      <th>AZ</th>\n",
       "      <td>1012</td>\n",
       "    </tr>\n",
       "    <tr>\n",
       "      <th>IL</th>\n",
       "      <td>881</td>\n",
       "    </tr>\n",
       "    <tr>\n",
       "      <th>MI</th>\n",
       "      <td>745</td>\n",
       "    </tr>\n",
       "    <tr>\n",
       "      <th>GA</th>\n",
       "      <td>655</td>\n",
       "    </tr>\n",
       "    <tr>\n",
       "      <th>OH</th>\n",
       "      <td>448</td>\n",
       "    </tr>\n",
       "    <tr>\n",
       "      <th>NV</th>\n",
       "      <td>429</td>\n",
       "    </tr>\n",
       "    <tr>\n",
       "      <th>TX</th>\n",
       "      <td>387</td>\n",
       "    </tr>\n",
       "    <tr>\n",
       "      <th>MN</th>\n",
       "      <td>358</td>\n",
       "    </tr>\n",
       "    <tr>\n",
       "      <th>NC</th>\n",
       "      <td>349</td>\n",
       "    </tr>\n",
       "    <tr>\n",
       "      <th>WA</th>\n",
       "      <td>343</td>\n",
       "    </tr>\n",
       "    <tr>\n",
       "      <th>NJ</th>\n",
       "      <td>342</td>\n",
       "    </tr>\n",
       "    <tr>\n",
       "      <th>PA</th>\n",
       "      <td>338</td>\n",
       "    </tr>\n",
       "    <tr>\n",
       "      <th>MO</th>\n",
       "      <td>311</td>\n",
       "    </tr>\n",
       "    <tr>\n",
       "      <th>MD</th>\n",
       "      <td>290</td>\n",
       "    </tr>\n",
       "    <tr>\n",
       "      <th>VA</th>\n",
       "      <td>274</td>\n",
       "    </tr>\n",
       "    <tr>\n",
       "      <th>WI</th>\n",
       "      <td>271</td>\n",
       "    </tr>\n",
       "    <tr>\n",
       "      <th>IN</th>\n",
       "      <td>268</td>\n",
       "    </tr>\n",
       "    <tr>\n",
       "      <th>NY</th>\n",
       "      <td>258</td>\n",
       "    </tr>\n",
       "    <tr>\n",
       "      <th>SC</th>\n",
       "      <td>220</td>\n",
       "    </tr>\n",
       "    <tr>\n",
       "      <th>MA</th>\n",
       "      <td>214</td>\n",
       "    </tr>\n",
       "    <tr>\n",
       "      <th>TN</th>\n",
       "      <td>208</td>\n",
       "    </tr>\n",
       "    <tr>\n",
       "      <th>OR</th>\n",
       "      <td>208</td>\n",
       "    </tr>\n",
       "    <tr>\n",
       "      <th>CO</th>\n",
       "      <td>172</td>\n",
       "    </tr>\n",
       "    <tr>\n",
       "      <th>AL</th>\n",
       "      <td>156</td>\n",
       "    </tr>\n",
       "    <tr>\n",
       "      <th>UT</th>\n",
       "      <td>148</td>\n",
       "    </tr>\n",
       "    <tr>\n",
       "      <th>KY</th>\n",
       "      <td>131</td>\n",
       "    </tr>\n",
       "    <tr>\n",
       "      <th>CT</th>\n",
       "      <td>125</td>\n",
       "    </tr>\n",
       "    <tr>\n",
       "      <th>ID</th>\n",
       "      <td>111</td>\n",
       "    </tr>\n",
       "    <tr>\n",
       "      <th>LA</th>\n",
       "      <td>96</td>\n",
       "    </tr>\n",
       "    <tr>\n",
       "      <th>AR</th>\n",
       "      <td>95</td>\n",
       "    </tr>\n",
       "    <tr>\n",
       "      <th>OK</th>\n",
       "      <td>85</td>\n",
       "    </tr>\n",
       "    <tr>\n",
       "      <th>KS</th>\n",
       "      <td>81</td>\n",
       "    </tr>\n",
       "    <tr>\n",
       "      <th>RI</th>\n",
       "      <td>80</td>\n",
       "    </tr>\n",
       "    <tr>\n",
       "      <th>IA</th>\n",
       "      <td>74</td>\n",
       "    </tr>\n",
       "    <tr>\n",
       "      <th>MS</th>\n",
       "      <td>74</td>\n",
       "    </tr>\n",
       "    <tr>\n",
       "      <th>NM</th>\n",
       "      <td>63</td>\n",
       "    </tr>\n",
       "    <tr>\n",
       "      <th>NH</th>\n",
       "      <td>62</td>\n",
       "    </tr>\n",
       "    <tr>\n",
       "      <th>DE</th>\n",
       "      <td>42</td>\n",
       "    </tr>\n",
       "    <tr>\n",
       "      <th>ME</th>\n",
       "      <td>42</td>\n",
       "    </tr>\n",
       "    <tr>\n",
       "      <th>WV</th>\n",
       "      <td>39</td>\n",
       "    </tr>\n",
       "    <tr>\n",
       "      <th>HI</th>\n",
       "      <td>33</td>\n",
       "    </tr>\n",
       "    <tr>\n",
       "      <th>MT</th>\n",
       "      <td>30</td>\n",
       "    </tr>\n",
       "    <tr>\n",
       "      <th>PR</th>\n",
       "      <td>29</td>\n",
       "    </tr>\n",
       "    <tr>\n",
       "      <th>NE</th>\n",
       "      <td>28</td>\n",
       "    </tr>\n",
       "    <tr>\n",
       "      <th>WY</th>\n",
       "      <td>19</td>\n",
       "    </tr>\n",
       "    <tr>\n",
       "      <th>VT</th>\n",
       "      <td>18</td>\n",
       "    </tr>\n",
       "    <tr>\n",
       "      <th>SD</th>\n",
       "      <td>13</td>\n",
       "    </tr>\n",
       "    <tr>\n",
       "      <th>AK</th>\n",
       "      <td>10</td>\n",
       "    </tr>\n",
       "    <tr>\n",
       "      <th>DC</th>\n",
       "      <td>8</td>\n",
       "    </tr>\n",
       "    <tr>\n",
       "      <th>GU</th>\n",
       "      <td>1</td>\n",
       "    </tr>\n",
       "    <tr>\n",
       "      <th>ND</th>\n",
       "      <td>1</td>\n",
       "    </tr>\n",
       "  </tbody>\n",
       "</table>\n",
       "</div>"
      ],
      "text/plain": [
       "    Default\n",
       "FL     2293\n",
       "CA     1602\n",
       "AZ     1012\n",
       "IL      881\n",
       "MI      745\n",
       "GA      655\n",
       "OH      448\n",
       "NV      429\n",
       "TX      387\n",
       "MN      358\n",
       "NC      349\n",
       "WA      343\n",
       "NJ      342\n",
       "PA      338\n",
       "MO      311\n",
       "MD      290\n",
       "VA      274\n",
       "WI      271\n",
       "IN      268\n",
       "NY      258\n",
       "SC      220\n",
       "MA      214\n",
       "TN      208\n",
       "OR      208\n",
       "CO      172\n",
       "AL      156\n",
       "UT      148\n",
       "KY      131\n",
       "CT      125\n",
       "ID      111\n",
       "LA       96\n",
       "AR       95\n",
       "OK       85\n",
       "KS       81\n",
       "RI       80\n",
       "IA       74\n",
       "MS       74\n",
       "NM       63\n",
       "NH       62\n",
       "DE       42\n",
       "ME       42\n",
       "WV       39\n",
       "HI       33\n",
       "MT       30\n",
       "PR       29\n",
       "NE       28\n",
       "WY       19\n",
       "VT       18\n",
       "SD       13\n",
       "AK       10\n",
       "DC        8\n",
       "GU        1\n",
       "ND        1"
      ]
     },
     "execution_count": 108,
     "metadata": {},
     "output_type": "execute_result"
    }
   ],
   "source": [
    "total_state_res.sort_values(by='Default', ascending=False)\n"
   ]
  },
  {
   "cell_type": "markdown",
   "metadata": {},
   "source": [
    "#FL and CA  tend to have more default cases over all these years"
   ]
  }
 ],
 "metadata": {
  "anaconda-cloud": {},
  "kernelspec": {
   "display_name": "Python 3",
   "language": "python",
   "name": "python3"
  },
  "language_info": {
   "codemirror_mode": {
    "name": "ipython",
    "version": 3
   },
   "file_extension": ".py",
   "mimetype": "text/x-python",
   "name": "python",
   "nbconvert_exporter": "python",
   "pygments_lexer": "ipython3",
   "version": "3.6.0"
  }
 },
 "nbformat": 4,
 "nbformat_minor": 0
}
