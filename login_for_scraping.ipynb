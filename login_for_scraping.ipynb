{
 "cells": [
  {
   "cell_type": "code",
   "execution_count": 18,
   "metadata": {
    "collapsed": false
   },
   "outputs": [
    {
     "name": "stdout",
     "output_type": "stream",
     "text": [
      "\n",
      "<!DOCTYPE html>\n",
      "\n",
      "<html>\n",
      "<head>\n",
      "<title>Freddie Mac Loan History</title>\n",
      "<link href=\"/FLoan/fm_classes_v3.css\" rel=\"stylesheet\" type=\"text/css\">\n",
      "<link href=\"/FLoan/fm_elements_v2.css\" rel=\"stylesheet\" type=\"text/css\">\n",
      "<link href=\"/FLoan/fm_forms.css\" rel=\"stylesheet\" type=\"text/css\">\n",
      "</link></link></link></head>\n",
      "<body>\n",
      "<div class=\"\" id=\"content-display\">\n",
      "<div id=\"content-main\">\n",
      "<h2>Please log in</h2>\n",
      "<form action=\"auth.php\" class=\"fmform\" method=\"post\" name=\"loginform\">\n",
      "<p class=\"field clearfix\"><label class=\"formLabel\" for=\"username\">Enter email address:</label>\n",
      "<input class=\"formTextThree\" id=\"username\" name=\"username\" type=\"text\"/></p>\n",
      "<p class=\"field clearfix\"><label class=\"formLabel\" for=\"password\">Enter password:</label>\n",
      "<input autocomplete=\"off\" class=\"formTextThree\" id=\"password\" name=\"password\" type=\"password\"/></p>\n",
      "<p class=\"field clearfix\"><input class=\"fmSubmit\" type=\"submit\" value=\"Submit Credentials\">\n",
      "</input></p></form>\n",
      "</div></div></body></html>\n",
      "\n",
      "\n"
     ]
    }
   ],
   "source": [
    "# implementation for freddiemac not working. Trying to tweak the bitbucket working example in the next cell\n",
    "\n",
    "import requests\n",
    "from lxml import html\n",
    "from bs4 import BeautifulSoup\n",
    "\n",
    "\n",
    "USERNAME = \"nehal13191@gmail.com\"\n",
    "PASSWORD = \"NrVI9Fhs\"\n",
    "\n",
    "LOGIN_URL = \"https://freddiemac.embs.com/FLoan/secure/login.php\"\n",
    "# LOGIN_URL = \"https://www.facebook.com/\"\n",
    "URL = \"https://freddiemac.embs.com/FLoan/Data/download.php\"\n",
    "\n",
    "def main():\n",
    "    session_requests = requests.session()\n",
    "\n",
    "    # Get login csrf token\n",
    "    result = session_requests.get(LOGIN_URL)\n",
    "    tree = html.fromstring(result.text)\n",
    "#     authenticity_token = list(set(tree.xpath(\"//input[@name='csrfmiddlewaretoken']/@value\")))[0]\n",
    "\n",
    "    # Create payload\n",
    "    payload = {\n",
    "        \"username\": USERNAME, \n",
    "        \"password\": PASSWORD, \n",
    "#         \"csrfmiddlewaretoken\": authenticity_token\n",
    "    }\n",
    "\n",
    "    # Perform login\n",
    "    try:\n",
    "        \n",
    "        result = session_requests.post(LOGIN_URL, data = payload, headers = dict(referer = LOGIN_URL))\n",
    "\n",
    "        # Scrape url\n",
    "        result = session_requests.get(URL, headers = dict(referer = URL))\n",
    "        tree = html.fromstring(result.content)\n",
    "        soup = BeautifulSoup(result.content, \"html.parser\")\n",
    "        print(soup)\n",
    "#         bucket_names = tree.xpath(\"//div[@class='repo-list--repo']/a/text()\")\n",
    "#         bucket_names_1 = soup.find(\"//div[@class='repo-list--repo']/a/text()\")\n",
    "\n",
    "#         print(result.content)\n",
    "#         print(bucket_names_1)\n",
    "        \n",
    "    except Exception as e:\n",
    "        print(e.message)\n",
    "\n",
    "if __name__ == '__main__':\n",
    "    main()"
   ]
  },
  {
   "cell_type": "code",
   "execution_count": 19,
   "metadata": {
    "collapsed": false
   },
   "outputs": [
    {
     "name": "stdout",
     "output_type": "stream",
     "text": [
      "['Machine_Learning']\n"
     ]
    }
   ],
   "source": [
    "import requests\n",
    "from lxml import html\n",
    "\n",
    "#if you are currently logging in to bitbucket with google or facebook, make a new bb regular account and use those credentials here.\n",
    "USERNAME = \"<bb username>\"\n",
    "PASSWORD = \"<bb password>\"\n",
    "\n",
    "LOGIN_URL = \"https://bitbucket.org/account/signin/?next=/\"\n",
    "URL = \"https://bitbucket.org/dashboard/repositories\"\n",
    "\n",
    "def main():\n",
    "    session_requests = requests.session()\n",
    "\n",
    "    # Get login csrf token\n",
    "    \n",
    "    result = session_requests.get(LOGIN_URL)\n",
    "    tree = html.fromstring(result.text)\n",
    "    authenticity_token = list(set(tree.xpath(\"//input[@name='csrfmiddlewaretoken']/@value\")))[0]\n",
    "\n",
    "    # Create payload\n",
    "    # I have used the name attributes of the input field for all the three. \n",
    "    payload = {\n",
    "        \"username\": USERNAME, \n",
    "        \"password\": PASSWORD, \n",
    "        \"csrfmiddlewaretoken\": authenticity_token\n",
    "    }\n",
    "\n",
    "    # Perform login\n",
    "    result = session_requests.post(LOGIN_URL, data = payload, headers = dict(referer = LOGIN_URL))\n",
    "\n",
    "    # Scrape url\n",
    "    result = session_requests.get(URL, headers = dict(referer = URL))\n",
    "    tree = html.fromstring(result.content)\n",
    "    bucket_names = tree.xpath(\"//div[@class='repo-list--repo']/a/text()\") #gets the list of your repositories\n",
    "\n",
    "    print(bucket_names) \n",
    "\n",
    "if __name__ == '__main__':\n",
    "    main()"
   ]
  }
 ],
 "metadata": {
  "anaconda-cloud": {},
  "kernelspec": {
   "display_name": "Python [default]",
   "language": "python",
   "name": "python3"
  },
  "language_info": {
   "codemirror_mode": {
    "name": "ipython",
    "version": 3
   },
   "file_extension": ".py",
   "mimetype": "text/x-python",
   "name": "python",
   "nbconvert_exporter": "python",
   "pygments_lexer": "ipython3",
   "version": "3.5.2"
  }
 },
 "nbformat": 4,
 "nbformat_minor": 1
}
