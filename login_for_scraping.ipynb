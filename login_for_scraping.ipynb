{
 "cells": [
  {
   "cell_type": "code",
   "execution_count": 2,
   "metadata": {
    "collapsed": false
   },
   "outputs": [
    {
     "ename": "WebDriverException",
     "evalue": "Message: 'chromedriver' executable needs to be in PATH. Please see https://sites.google.com/a/chromium.org/chromedriver/home\n",
     "output_type": "error",
     "traceback": [
      "\u001b[0;31m---------------------------------------------------------------------------\u001b[0m",
      "\u001b[0;31mWebDriverException\u001b[0m                        Traceback (most recent call last)",
      "\u001b[0;32m<ipython-input-2-93182e8f3c7f>\u001b[0m in \u001b[0;36m<module>\u001b[0;34m()\u001b[0m\n\u001b[1;32m     81\u001b[0m \u001b[0;34m\u001b[0m\u001b[0m\n\u001b[1;32m     82\u001b[0m \u001b[0;32mif\u001b[0m \u001b[0m__name__\u001b[0m \u001b[0;34m==\u001b[0m \u001b[0;34m'__main__'\u001b[0m\u001b[0;34m:\u001b[0m\u001b[0;34m\u001b[0m\u001b[0m\n\u001b[0;32m---> 83\u001b[0;31m     \u001b[0mmain\u001b[0m\u001b[0;34m(\u001b[0m\u001b[0;34m)\u001b[0m\u001b[0;34m\u001b[0m\u001b[0m\n\u001b[0m",
      "\u001b[0;32m<ipython-input-2-93182e8f3c7f>\u001b[0m in \u001b[0;36mmain\u001b[0;34m()\u001b[0m\n\u001b[1;32m     23\u001b[0m \u001b[0;32mdef\u001b[0m \u001b[0mmain\u001b[0m\u001b[0;34m(\u001b[0m\u001b[0;34m)\u001b[0m\u001b[0;34m:\u001b[0m\u001b[0;34m\u001b[0m\u001b[0m\n\u001b[1;32m     24\u001b[0m \u001b[0;34m\u001b[0m\u001b[0m\n\u001b[0;32m---> 25\u001b[0;31m     \u001b[0mbrowser\u001b[0m \u001b[0;34m=\u001b[0m \u001b[0mwebdriver\u001b[0m\u001b[0;34m.\u001b[0m\u001b[0mChrome\u001b[0m\u001b[0;34m(\u001b[0m\u001b[0;34m)\u001b[0m \u001b[0;31m# to-do- docker or regular. exe needs to be in path\u001b[0m\u001b[0;34m\u001b[0m\u001b[0m\n\u001b[0m\u001b[1;32m     26\u001b[0m     \u001b[0mbrowser\u001b[0m\u001b[0;34m.\u001b[0m\u001b[0mget\u001b[0m\u001b[0;34m(\u001b[0m\u001b[0;34m(\u001b[0m\u001b[0mLOGIN_URL\u001b[0m\u001b[0;34m)\u001b[0m\u001b[0;34m)\u001b[0m\u001b[0;34m\u001b[0m\u001b[0m\n\u001b[1;32m     27\u001b[0m \u001b[0;34m\u001b[0m\u001b[0m\n",
      "\u001b[0;32m/Users/pranjal/anaconda/lib/python2.7/site-packages/selenium/webdriver/chrome/webdriver.pyc\u001b[0m in \u001b[0;36m__init__\u001b[0;34m(self, executable_path, port, chrome_options, service_args, desired_capabilities, service_log_path)\u001b[0m\n\u001b[1;32m     60\u001b[0m             \u001b[0mservice_args\u001b[0m\u001b[0;34m=\u001b[0m\u001b[0mservice_args\u001b[0m\u001b[0;34m,\u001b[0m\u001b[0;34m\u001b[0m\u001b[0m\n\u001b[1;32m     61\u001b[0m             log_path=service_log_path)\n\u001b[0;32m---> 62\u001b[0;31m         \u001b[0mself\u001b[0m\u001b[0;34m.\u001b[0m\u001b[0mservice\u001b[0m\u001b[0;34m.\u001b[0m\u001b[0mstart\u001b[0m\u001b[0;34m(\u001b[0m\u001b[0;34m)\u001b[0m\u001b[0;34m\u001b[0m\u001b[0m\n\u001b[0m\u001b[1;32m     63\u001b[0m \u001b[0;34m\u001b[0m\u001b[0m\n\u001b[1;32m     64\u001b[0m         \u001b[0;32mtry\u001b[0m\u001b[0;34m:\u001b[0m\u001b[0;34m\u001b[0m\u001b[0m\n",
      "\u001b[0;32m/Users/pranjal/anaconda/lib/python2.7/site-packages/selenium/webdriver/common/service.pyc\u001b[0m in \u001b[0;36mstart\u001b[0;34m(self)\u001b[0m\n\u001b[1;32m     79\u001b[0m                 raise WebDriverException(\n\u001b[1;32m     80\u001b[0m                     \"'%s' executable needs to be in PATH. %s\" % (\n\u001b[0;32m---> 81\u001b[0;31m                         os.path.basename(self.path), self.start_error_message)\n\u001b[0m\u001b[1;32m     82\u001b[0m                 )\n\u001b[1;32m     83\u001b[0m             \u001b[0;32melif\u001b[0m \u001b[0merr\u001b[0m\u001b[0;34m.\u001b[0m\u001b[0merrno\u001b[0m \u001b[0;34m==\u001b[0m \u001b[0merrno\u001b[0m\u001b[0;34m.\u001b[0m\u001b[0mEACCES\u001b[0m\u001b[0;34m:\u001b[0m\u001b[0;34m\u001b[0m\u001b[0m\n",
      "\u001b[0;31mWebDriverException\u001b[0m: Message: 'chromedriver' executable needs to be in PATH. Please see https://sites.google.com/a/chromium.org/chromedriver/home\n"
     ]
    }
   ],
   "source": [
    "# to run on your local/notebook, install chrome webdriver >> $ npm install chromedriver\n",
    "# the .exe needs to be alongside python file\n",
    "# for docker, the dockerfile should do it.\n",
    "\n",
    "\n",
    "from selenium import webdriver\n",
    "from selenium.webdriver.common.by import By\n",
    "from selenium.webdriver.support.ui import WebDriverWait\n",
    "from selenium.webdriver.support import expected_conditions as EC\n",
    "#https://gist.github.com/varyonic/dea40abcf3dd891d204ef235c6e8dd79\n",
    "\n",
    "\n",
    "#from bs4 import BeautifulSoup # to-do docker install ????\n",
    "import os.path\n",
    "\n",
    "\n",
    "usernameStr = 'nehal13191@gmail.com'\n",
    "passwordStr = 'i;?f:p@a'\n",
    "\n",
    "LOGIN_URL = 'https://freddiemac.embs.com/FLoan/secure/login.php'\n",
    "POST_LOGIN_URL = 'https://freddiemac.embs.com/FLoan/Data/download.php'\n",
    "\n",
    "def main():\n",
    "\n",
    "    browser = webdriver.Chrome() # to-do- docker or regular. exe needs to be in path\n",
    "    browser.get((LOGIN_URL))\n",
    "\n",
    "    username = browser.find_element_by_id('username')\n",
    "    username.send_keys(usernameStr)\n",
    "\n",
    "    password = browser.find_element_by_id('password')\n",
    "    password.send_keys(passwordStr)\n",
    "\n",
    "    signInButton = browser.find_element_by_css_selector(\".fmSubmit\")\n",
    "    signInButton.click()\n",
    "\n",
    "    browser.get((POST_LOGIN_URL))\n",
    "\n",
    "    browser.find_element_by_name('accept').click()\n",
    "    browser.find_element_by_name('acceptSubmit').click()\n",
    "    \n",
    "    # optional download with selenium itself\n",
    "    #this gets me to the page I want to click the likes\n",
    "    for file in range(1999,2001):\n",
    "        print(file)\n",
    "        sample_file_link = browser.find_element_by_css_selector(\"a[href*='sample_\",file,\"]\")\n",
    "        sample_file_link.click()\n",
    "    \n",
    "    #else, send to get_content and download with bs4\n",
    "    html = browser.page_source\n",
    "    get_content(html)\n",
    "    \n",
    "    \n",
    "    \n",
    "def get_content(html):\n",
    "    \n",
    "    soup = BeautifulSoup(html, \"html.parser\")\n",
    "#     print(soup)\n",
    "    \n",
    "    \n",
    "\n",
    "#         for row in soup.findAll('tr')[1:2]:\n",
    "            \n",
    "#             for td in row.findAll('a'):\n",
    "#                 if \"10\" in td.text:\n",
    "# #                     print(\"gsHA \",td.get('href'))\n",
    "#                     path += td.get('href')\n",
    "                   \n",
    "  \n",
    "    create_directory(\"Sample_Loan_Data\")\n",
    "\n",
    "def create_directory(path):\n",
    "    \n",
    "    try:\n",
    "        if not os.path.exists(path):\n",
    "            os.makedirs(path)\n",
    "    except OSError as exception:\n",
    "        if exception.errno != errno.EEXIST:\n",
    "            raise\n",
    "\n",
    "\n",
    "if __name__ == '__main__':\n",
    "    main()"
   ]
  },
  {
   "cell_type": "code",
   "execution_count": null,
   "metadata": {
    "collapsed": true
   },
   "outputs": [],
   "source": []
  }
 ],
 "metadata": {
  "anaconda-cloud": {},
  "kernelspec": {
   "display_name": "Python [default]",
   "language": "python",
   "name": "python2"
  },
  "language_info": {
   "codemirror_mode": {
    "name": "ipython",
    "version": 2
   },
   "file_extension": ".py",
   "mimetype": "text/x-python",
   "name": "python",
   "nbconvert_exporter": "python",
   "pygments_lexer": "ipython2",
   "version": "2.7.12"
  }
 },
 "nbformat": 4,
 "nbformat_minor": 1
}
