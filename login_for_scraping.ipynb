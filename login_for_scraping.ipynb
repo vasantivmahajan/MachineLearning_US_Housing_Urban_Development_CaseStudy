{
 "cells": [
  {
   "cell_type": "code",
   "execution_count": 16,
   "metadata": {
    "collapsed": false
   },
   "outputs": [
    {
     "name": "stdout",
     "output_type": "stream",
     "text": [
      "password : i;?f:p@a\n"
     ]
    }
   ],
   "source": [
    "# to run on your local/notebook, install chrome webdriver >> $ npm install chromedriver\n",
    "# the .exe needs to be alongside python file\n",
    "# for docker, the dockerfile should do it.\n",
    "\n",
    "\n",
    "from selenium import webdriver\n",
    "from selenium.webdriver.common.by import By\n",
    "from selenium.webdriver.support.ui import WebDriverWait\n",
    "from selenium.webdriver.support import expected_conditions as EC\n",
    "#https://gist.github.com/varyonic/dea40abcf3dd891d204ef235c6e8dd79\n",
    "\n",
    "\n",
    "#from bs4 import BeautifulSoup # to-do docker install ????\n",
    "import os.path\n",
    "\n",
    "\n",
    "usernameStr = 'nehal13191@gmail.com'\n",
    "passwordStr = input(\"password : \")\n",
    "\n",
    "LOGIN_URL = 'https://freddiemac.embs.com/FLoan/secure/login.php'\n",
    "POST_LOGIN_URL = 'https://freddiemac.embs.com/FLoan/Data/download.php'\n",
    "\n",
    "def main():\n",
    "\n",
    "    browser = webdriver.Chrome() # to-do- docker or regular. exe needs to be in path\n",
    "    browser.get((LOGIN_URL))\n",
    "\n",
    "    username = browser.find_element_by_id('username')\n",
    "    username.send_keys(usernameStr)\n",
    "\n",
    "    password = browser.find_element_by_id('password')\n",
    "    password.send_keys(passwordStr)\n",
    "\n",
    "    signInButton = browser.find_element_by_css_selector(\".fmSubmit\")\n",
    "    signInButton.click()\n",
    "\n",
    "    browser.get((POST_LOGIN_URL))\n",
    "\n",
    "    browser.find_element_by_name('accept').click()\n",
    "    browser.find_element_by_name('acceptSubmit').click()\n",
    "    \n",
    "    # optional download with selenium itself\n",
    "    #this gets me to the page I want to click the likes\n",
    "    for file in range(1999,2001):\n",
    "        print(file)\n",
    "        sample_file_link = browser.find_element_by_css_selector(\"a[href*='sample_\",file,\"]\")\n",
    "        sample_file_link.click()\n",
    "    \n",
    "    #else, send to get_content and download with bs4\n",
    "    html = browser.page_source\n",
    "    get_content(html)\n",
    "    \n",
    "    \n",
    "    \n",
    "def get_content(html):\n",
    "    \n",
    "    soup = BeautifulSoup(html, \"html.parser\")\n",
    "#     print(soup)\n",
    "    \n",
    "    \n",
    "\n",
    "#         for row in soup.findAll('tr')[1:2]:\n",
    "            \n",
    "#             for td in row.findAll('a'):\n",
    "#                 if \"10\" in td.text:\n",
    "# #                     print(\"gsHA \",td.get('href'))\n",
    "#                     path += td.get('href')\n",
    "                   \n",
    "  \n",
    "    create_directory(\"Sample_Loan_Data\")\n",
    "\n",
    "def create_directory(path):\n",
    "    \n",
    "    try:\n",
    "        if not os.path.exists(path):\n",
    "            os.makedirs(path)\n",
    "    except OSError as exception:\n",
    "        if exception.errno != errno.EEXIST:\n",
    "            raise\n",
    "\n",
    "\n",
    "if __name__ == '__main__':\n",
    "    main()"
   ]
  }
 ],
 "metadata": {
  "anaconda-cloud": {},
  "kernelspec": {
   "display_name": "Python [default]",
   "language": "python",
   "name": "python3"
  },
  "language_info": {
   "codemirror_mode": {
    "name": "ipython",
    "version": 3
   },
   "file_extension": ".py",
   "mimetype": "text/x-python",
   "name": "python",
   "nbconvert_exporter": "python",
   "pygments_lexer": "ipython3",
   "version": "3.5.2"
  }
 },
 "nbformat": 4,
 "nbformat_minor": 1
}
