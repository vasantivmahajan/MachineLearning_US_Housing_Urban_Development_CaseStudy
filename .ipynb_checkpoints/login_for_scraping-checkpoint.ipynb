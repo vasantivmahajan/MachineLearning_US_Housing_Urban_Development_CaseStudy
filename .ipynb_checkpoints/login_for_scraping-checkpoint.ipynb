{
 "cells": [
  {
   "cell_type": "code",
   "execution_count": 18,
   "metadata": {
    "collapsed": false
   },
   "outputs": [
    {
     "name": "stdout",
     "output_type": "stream",
     "text": [
      "\n",
      "<!DOCTYPE html>\n",
      "\n",
      "<html>\n",
      "<head>\n",
      "<title>Freddie Mac Loan History</title>\n",
      "<link href=\"/FLoan/fm_classes_v3.css\" rel=\"stylesheet\" type=\"text/css\">\n",
      "<link href=\"/FLoan/fm_elements_v2.css\" rel=\"stylesheet\" type=\"text/css\">\n",
      "<link href=\"/FLoan/fm_forms.css\" rel=\"stylesheet\" type=\"text/css\">\n",
      "</link></link></link></head>\n",
      "<body>\n",
      "<div class=\"\" id=\"content-display\">\n",
      "<div id=\"content-main\">\n",
      "<h2>Please log in</h2>\n",
      "<form action=\"auth.php\" class=\"fmform\" method=\"post\" name=\"loginform\">\n",
      "<p class=\"field clearfix\"><label class=\"formLabel\" for=\"username\">Enter email address:</label>\n",
      "<input class=\"formTextThree\" id=\"username\" name=\"username\" type=\"text\"/></p>\n",
      "<p class=\"field clearfix\"><label class=\"formLabel\" for=\"password\">Enter password:</label>\n",
      "<input autocomplete=\"off\" class=\"formTextThree\" id=\"password\" name=\"password\" type=\"password\"/></p>\n",
      "<p class=\"field clearfix\"><input class=\"fmSubmit\" type=\"submit\" value=\"Submit Credentials\">\n",
      "</input></p></form>\n",
      "</div></div></body></html>\n",
      "\n",
      "\n"
     ]
    }
   ],
   "source": [
    "# implementation for freddiemac not working. Trying to tweak the bitbucket working example in the next cell\n",
    "\n",
    "import requests\n",
    "from lxml import html\n",
    "from bs4 import BeautifulSoup\n",
    "\n",
    "\n",
    "USERNAME = \"nehal13191@gmail.com\"\n",
    "PASSWORD = \"i;?f:p@a\"\n",
    "\n",
    "LOGIN_URL = \"https://freddiemac.embs.com/FLoan/secure/login.php\"\n",
    "# LOGIN_URL = \"https://www.facebook.com/\"\n",
    "URL = \"https://freddiemac.embs.com/FLoan/Data/download.php\"\n",
    "\n",
    "def main():\n",
    "    session_requests = requests.session()\n",
    "\n",
    "    # Get login csrf token\n",
    "    result = session_requests.get(LOGIN_URL)\n",
    "    tree = html.fromstring(result.text)\n",
    "#     authenticity_token = list(set(tree.xpath(\"//input[@name='csrfmiddlewaretoken']/@value\")))[0]\n",
    "\n",
    "    # Create payload\n",
    "    payload = {\n",
    "        \"username\": USERNAME, \n",
    "        \"password\": PASSWORD, \n",
    "#         \"csrfmiddlewaretoken\": authenticity_token\n",
    "    }\n",
    "\n",
    "    # Perform login\n",
    "    try:\n",
    "        \n",
    "        result = session_requests.post(LOGIN_URL, data = payload, headers = dict(referer = LOGIN_URL))\n",
    "\n",
    "        # Scrape url\n",
    "        result = session_requests.get(URL, headers = dict(referer = URL))\n",
    "        tree = html.fromstring(result.content)\n",
    "        soup = BeautifulSoup(result.content, \"html.parser\")\n",
    "        print(soup)\n",
    "#         bucket_names = tree.xpath(\"//div[@class='repo-list--repo']/a/text()\")\n",
    "#         bucket_names_1 = soup.find(\"//div[@class='repo-list--repo']/a/text()\")\n",
    "\n",
    "#         print(result.content)\n",
    "#         print(bucket_names_1)\n",
    "        \n",
    "    except Exception as e:\n",
    "        print(e.message)\n",
    "\n",
    "if __name__ == '__main__':\n",
    "    main()"
   ]
  },
  {
   "cell_type": "code",
   "execution_count": 19,
   "metadata": {
    "collapsed": false
   },
   "outputs": [
    {
     "name": "stdout",
     "output_type": "stream",
     "text": [
      "['Machine_Learning']\n"
     ]
    }
   ],
   "source": [
    "import requests\n",
    "from lxml import html\n",
    "\n",
    "#if you are currently logging in to bitbucket with google or facebook, make a new bb regular account and use those credentials here.\n",
    "USERNAME = \"<bb username>\"\n",
    "PASSWORD = \"<bb password>\"\n",
    "\n",
    "LOGIN_URL = \"https://bitbucket.org/account/signin/?next=/\"\n",
    "URL = \"https://bitbucket.org/dashboard/repositories\"\n",
    "\n",
    "def main():\n",
    "    session_requests = requests.session()\n",
    "\n",
    "    # Get login csrf token\n",
    "    \n",
    "    result = session_requests.get(LOGIN_URL)\n",
    "    tree = html.fromstring(result.text)\n",
    "    authenticity_token = list(set(tree.xpath(\"//input[@name='csrfmiddlewaretoken']/@value\")))[0]\n",
    "\n",
    "    # Create payload\n",
    "    # I have used the name attributes of the input field for all the three. \n",
    "    payload = {\n",
    "        \"username\": USERNAME, \n",
    "        \"password\": PASSWORD, \n",
    "        \"csrfmiddlewaretoken\": authenticity_token\n",
    "    }\n",
    "\n",
    "    # Perform login\n",
    "    result = session_requests.post(LOGIN_URL, data = payload, headers = dict(referer = LOGIN_URL))\n",
    "\n",
    "    # Scrape url\n",
    "    result = session_requests.get(URL, headers = dict(referer = URL))\n",
    "    tree = html.fromstring(result.content)\n",
    "    bucket_names = tree.xpath(\"//div[@class='repo-list--repo']/a/text()\") #gets the list of your repositories\n",
    "\n",
    "    print(bucket_names) \n",
    "\n",
    "if __name__ == '__main__':\n",
    "    main()"
   ]
  },
  {
   "cell_type": "code",
   "execution_count": 21,
   "metadata": {
    "collapsed": false
   },
   "outputs": [
    {
     "ename": "WebDriverException",
     "evalue": "Message: 'chromedriver' executable needs to be in PATH. Please see https://sites.google.com/a/chromium.org/chromedriver/home\n",
     "output_type": "error",
     "traceback": [
      "\u001b[0;31m---------------------------------------------------------------------------\u001b[0m",
      "\u001b[0;31mFileNotFoundError\u001b[0m                         Traceback (most recent call last)",
      "\u001b[0;32mC:\\Program Files\\Anaconda3\\lib\\site-packages\\selenium\\webdriver\\common\\service.py\u001b[0m in \u001b[0;36mstart\u001b[0;34m(self)\u001b[0m\n\u001b[1;32m     73\u001b[0m                                             \u001b[0mclose_fds\u001b[0m\u001b[1;33m=\u001b[0m\u001b[0mplatform\u001b[0m\u001b[1;33m.\u001b[0m\u001b[0msystem\u001b[0m\u001b[1;33m(\u001b[0m\u001b[1;33m)\u001b[0m \u001b[1;33m!=\u001b[0m \u001b[1;34m'Windows'\u001b[0m\u001b[1;33m,\u001b[0m\u001b[1;33m\u001b[0m\u001b[0m\n\u001b[0;32m---> 74\u001b[0;31m                                             stdout=self.log_file, stderr=self.log_file)\n\u001b[0m\u001b[1;32m     75\u001b[0m         \u001b[1;32mexcept\u001b[0m \u001b[0mTypeError\u001b[0m\u001b[1;33m:\u001b[0m\u001b[1;33m\u001b[0m\u001b[0m\n",
      "\u001b[0;32mC:\\Program Files\\Anaconda3\\lib\\subprocess.py\u001b[0m in \u001b[0;36m__init__\u001b[0;34m(self, args, bufsize, executable, stdin, stdout, stderr, preexec_fn, close_fds, shell, cwd, env, universal_newlines, startupinfo, creationflags, restore_signals, start_new_session, pass_fds)\u001b[0m\n\u001b[1;32m    946\u001b[0m                                 \u001b[0merrread\u001b[0m\u001b[1;33m,\u001b[0m \u001b[0merrwrite\u001b[0m\u001b[1;33m,\u001b[0m\u001b[1;33m\u001b[0m\u001b[0m\n\u001b[0;32m--> 947\u001b[0;31m                                 restore_signals, start_new_session)\n\u001b[0m\u001b[1;32m    948\u001b[0m         \u001b[1;32mexcept\u001b[0m\u001b[1;33m:\u001b[0m\u001b[1;33m\u001b[0m\u001b[0m\n",
      "\u001b[0;32mC:\\Program Files\\Anaconda3\\lib\\subprocess.py\u001b[0m in \u001b[0;36m_execute_child\u001b[0;34m(self, args, executable, preexec_fn, close_fds, pass_fds, cwd, env, startupinfo, creationflags, shell, p2cread, p2cwrite, c2pread, c2pwrite, errread, errwrite, unused_restore_signals, unused_start_new_session)\u001b[0m\n\u001b[1;32m   1223\u001b[0m                                          \u001b[0mcwd\u001b[0m\u001b[1;33m,\u001b[0m\u001b[1;33m\u001b[0m\u001b[0m\n\u001b[0;32m-> 1224\u001b[0;31m                                          startupinfo)\n\u001b[0m\u001b[1;32m   1225\u001b[0m             \u001b[1;32mfinally\u001b[0m\u001b[1;33m:\u001b[0m\u001b[1;33m\u001b[0m\u001b[0m\n",
      "\u001b[0;31mFileNotFoundError\u001b[0m: [WinError 2] The system cannot find the file specified",
      "\nDuring handling of the above exception, another exception occurred:\n",
      "\u001b[0;31mWebDriverException\u001b[0m                        Traceback (most recent call last)",
      "\u001b[0;32m<ipython-input-21-920865437484>\u001b[0m in \u001b[0;36m<module>\u001b[0;34m()\u001b[0m\n\u001b[1;32m      7\u001b[0m \u001b[0mpasswordStr\u001b[0m \u001b[1;33m=\u001b[0m \u001b[1;34m'i;?f:p@a'\u001b[0m\u001b[1;33m\u001b[0m\u001b[0m\n\u001b[1;32m      8\u001b[0m \u001b[1;33m\u001b[0m\u001b[0m\n\u001b[0;32m----> 9\u001b[0;31m \u001b[0mbrowser\u001b[0m \u001b[1;33m=\u001b[0m \u001b[0mwebdriver\u001b[0m\u001b[1;33m.\u001b[0m\u001b[0mChrome\u001b[0m\u001b[1;33m(\u001b[0m\u001b[1;33m)\u001b[0m\u001b[1;33m\u001b[0m\u001b[0m\n\u001b[0m\u001b[1;32m     10\u001b[0m \u001b[0mbrowser\u001b[0m\u001b[1;33m.\u001b[0m\u001b[0mget\u001b[0m\u001b[1;33m(\u001b[0m\u001b[1;33m(\u001b[0m\u001b[1;34m'https://freddiemac.embs.com/FLoan/secure/login.php'\u001b[0m\u001b[1;33m)\u001b[0m\u001b[1;33m)\u001b[0m\u001b[1;33m\u001b[0m\u001b[0m\n\u001b[1;32m     11\u001b[0m \u001b[1;33m\u001b[0m\u001b[0m\n",
      "\u001b[0;32mC:\\Program Files\\Anaconda3\\lib\\site-packages\\selenium\\webdriver\\chrome\\webdriver.py\u001b[0m in \u001b[0;36m__init__\u001b[0;34m(self, executable_path, port, chrome_options, service_args, desired_capabilities, service_log_path)\u001b[0m\n\u001b[1;32m     60\u001b[0m             \u001b[0mservice_args\u001b[0m\u001b[1;33m=\u001b[0m\u001b[0mservice_args\u001b[0m\u001b[1;33m,\u001b[0m\u001b[1;33m\u001b[0m\u001b[0m\n\u001b[1;32m     61\u001b[0m             log_path=service_log_path)\n\u001b[0;32m---> 62\u001b[0;31m         \u001b[0mself\u001b[0m\u001b[1;33m.\u001b[0m\u001b[0mservice\u001b[0m\u001b[1;33m.\u001b[0m\u001b[0mstart\u001b[0m\u001b[1;33m(\u001b[0m\u001b[1;33m)\u001b[0m\u001b[1;33m\u001b[0m\u001b[0m\n\u001b[0m\u001b[1;32m     63\u001b[0m \u001b[1;33m\u001b[0m\u001b[0m\n\u001b[1;32m     64\u001b[0m         \u001b[1;32mtry\u001b[0m\u001b[1;33m:\u001b[0m\u001b[1;33m\u001b[0m\u001b[0m\n",
      "\u001b[0;32mC:\\Program Files\\Anaconda3\\lib\\site-packages\\selenium\\webdriver\\common\\service.py\u001b[0m in \u001b[0;36mstart\u001b[0;34m(self)\u001b[0m\n\u001b[1;32m     79\u001b[0m                 raise WebDriverException(\n\u001b[1;32m     80\u001b[0m                     \"'%s' executable needs to be in PATH. %s\" % (\n\u001b[0;32m---> 81\u001b[0;31m                         os.path.basename(self.path), self.start_error_message)\n\u001b[0m\u001b[1;32m     82\u001b[0m                 )\n\u001b[1;32m     83\u001b[0m             \u001b[1;32melif\u001b[0m \u001b[0merr\u001b[0m\u001b[1;33m.\u001b[0m\u001b[0merrno\u001b[0m \u001b[1;33m==\u001b[0m \u001b[0merrno\u001b[0m\u001b[1;33m.\u001b[0m\u001b[0mEACCES\u001b[0m\u001b[1;33m:\u001b[0m\u001b[1;33m\u001b[0m\u001b[0m\n",
      "\u001b[0;31mWebDriverException\u001b[0m: Message: 'chromedriver' executable needs to be in PATH. Please see https://sites.google.com/a/chromium.org/chromedriver/home\n"
     ]
    }
   ],
   "source": [
    "from selenium import webdriver\n",
    "from selenium.webdriver.common.by import By\n",
    "from selenium.webdriver.support.ui import WebDriverWait\n",
    "from selenium.webdriver.support import expected_conditions as EC\n",
    "\n",
    "usernameStr = 'nehal13191@gmail.com'\n",
    "passwordStr = input(\"password : \")\n",
    "\n",
    "browser = webdriver.Chrome()\n",
    "browser.get(('https://freddiemac.embs.com/FLoan/secure/login.php'))\n",
    "\n",
    "# fill in username and hit the next button\n",
    "\n",
    "username = browser.find_element_by_id('username')\n",
    "username.send_keys(usernameStr)\n",
    "\n",
    "password = browser.find_element_by_id('password')\n",
    "password.send_keys(passwordStr)\n",
    "\n",
    "\n",
    "signInButton = browser.find_element_by_css_selector(\".fmSubmit\")\n",
    "signInButton.click()"
   ]
  }
 ],
 "metadata": {
  "anaconda-cloud": {},
  "kernelspec": {
   "display_name": "Python [default]",
   "language": "python",
   "name": "python3"
  },
  "language_info": {
   "codemirror_mode": {
    "name": "ipython",
    "version": 3
   },
   "file_extension": ".py",
   "mimetype": "text/x-python",
   "name": "python",
   "nbconvert_exporter": "python",
   "pygments_lexer": "ipython3",
   "version": "3.5.2"
  }
 },
 "nbformat": 4,
 "nbformat_minor": 1
}
