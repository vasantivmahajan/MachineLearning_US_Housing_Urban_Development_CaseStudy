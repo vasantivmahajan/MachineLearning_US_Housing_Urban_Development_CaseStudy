{
 "cells": [
  {
   "cell_type": "code",
   "execution_count": null,
   "metadata": {
    "collapsed": true
   },
   "outputs": [],
   "source": [
    "# run_max.py\n",
    "import subprocess\n",
    "\n",
    "# Define command and arguments\n",
    "command = 'Rscript'\n",
    "path2script = 'R_Variable_Selection.R'\n",
    "\n",
    "# Variable number of args in a list\n",
    "args = ['11', '3', '9', '42']\n",
    "\n",
    "# Build subprocess command\n",
    "cmd = [command, path2script] + args\n",
    "\n",
    "# check_output will run the command and store to result\n",
    "x = subprocess.check_output(cmd, universal_newlines=True)\n",
    "\n",
    "print('The maximum of the numbers is:', x)\n"
   ]
  }
 ],
 "metadata": {
  "kernelspec": {
   "display_name": "Python [default]",
   "language": "python",
   "name": "python3"
  },
  "language_info": {
   "codemirror_mode": {
    "name": "ipython",
    "version": 3
   },
   "file_extension": ".py",
   "mimetype": "text/x-python",
   "name": "python",
   "nbconvert_exporter": "python",
   "pygments_lexer": "ipython3",
   "version": "3.5.2"
  }
 },
 "nbformat": 4,
 "nbformat_minor": 1
}
