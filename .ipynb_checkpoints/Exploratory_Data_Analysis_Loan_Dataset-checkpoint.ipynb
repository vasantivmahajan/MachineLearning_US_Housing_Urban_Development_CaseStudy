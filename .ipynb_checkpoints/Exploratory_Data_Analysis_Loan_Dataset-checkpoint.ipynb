{
 "cells": [
  {
   "cell_type": "markdown",
   "metadata": {},
   "source": [
    "## Analysis of loan datset year wise\n"
   ]
  },
  {
   "cell_type": "code",
   "execution_count": 44,
   "metadata": {
    "collapsed": false,
    "scrolled": true
   },
   "outputs": [],
   "source": [
    "%matplotlib inline\n",
    "import pandas as pd\n",
    "import numpy as np\n",
    "import matplotlib\n",
    "import matplotlib.pyplot as plt\n",
    "import seaborn\n",
    "import re\n",
    "import datetime\n",
    "pd.options.display.max_columns=200\n",
    "matplotlib.rcParams['figure.figsize'] = (15.0, 12.0)\n",
    "import warnings\n",
    "warnings.filterwarnings('ignore')"
   ]
  },
  {
   "cell_type": "markdown",
   "metadata": {},
   "source": [
    "## Read data into memory and process the data"
   ]
  },
  {
   "cell_type": "code",
   "execution_count": 45,
   "metadata": {
    "collapsed": false
   },
   "outputs": [
    {
     "name": "stdout",
     "output_type": "stream",
     "text": [
      "enter year for analysis2005\n"
     ]
    },
    {
     "data": {
      "text/html": [
       "<div>\n",
       "<table border=\"1\" class=\"dataframe\">\n",
       "  <thead>\n",
       "    <tr style=\"text-align: right;\">\n",
       "      <th></th>\n",
       "      <th>CREDIT_SCORE</th>\n",
       "      <th>FIRST_PAYMENT_DATE</th>\n",
       "      <th>FIRST_TIME_HOMEBUYER_FLAG</th>\n",
       "      <th>MATURITY_DATE</th>\n",
       "      <th>MSA</th>\n",
       "      <th>MORTAGAGE_INSURANCE_PERCENTAGE</th>\n",
       "      <th>NUMBER_OF_UNITS</th>\n",
       "      <th>OCCUPANCY_STATUS</th>\n",
       "      <th>ORGINAL_COMBINED_LOAN_TO_VALUE</th>\n",
       "      <th>ORIGINAL_DEBT_TO_INCOME_RATIO</th>\n",
       "      <th>ORIGINAL_UPB</th>\n",
       "      <th>ORIGINAL_LOAN_TO_VALUE</th>\n",
       "      <th>ORIGINAL_INTEREST_RATE</th>\n",
       "      <th>CHANNEL</th>\n",
       "      <th>PREPAYMENT_PENALTY_MORTGAGE_FLAG</th>\n",
       "      <th>PRODUCT_TYPE</th>\n",
       "      <th>PROPERTY_STATE</th>\n",
       "      <th>PROPERTY_TYPE</th>\n",
       "      <th>POSTAL_CODE</th>\n",
       "      <th>LOAN_SEQUENCE_NUMBER</th>\n",
       "      <th>LOAN_PURPOSE</th>\n",
       "      <th>ORIGINAL_LOAN_TERM</th>\n",
       "      <th>NUMBER_OF_BORROWERS</th>\n",
       "      <th>SELLER_NAME</th>\n",
       "      <th>SERVICER_NAME</th>\n",
       "      <th>SUPER_CONFORMING_FLAG</th>\n",
       "      <th>MONTHLY_REPORTING_PERIOD</th>\n",
       "      <th>CURENT_ACTUAL_UPB</th>\n",
       "      <th>CURRENT_LOAN_DELINQUENCY_STATUS</th>\n",
       "      <th>LOAN_AGE</th>\n",
       "      <th>REMAINING_MONTHS_TO_LEAGL_MATURITY</th>\n",
       "      <th>REPURCHASE_FLAG</th>\n",
       "      <th>MODIFICATION_FLAG</th>\n",
       "      <th>ZERO_BALANCE_CODE</th>\n",
       "      <th>ZERO_BALANCE_EFFECTIVE_DATE</th>\n",
       "      <th>CURRENT_INTEREST_RATE</th>\n",
       "      <th>CURRENT_DEFEREED_UPB</th>\n",
       "      <th>DUE_DATE_OF_LAST_PAID_INSTALLMENT</th>\n",
       "      <th>MI_RECOVERIES</th>\n",
       "      <th>NET_SALES_PROCEEDS</th>\n",
       "      <th>NON_MI_RECOVERIES</th>\n",
       "      <th>EXPENSES</th>\n",
       "      <th>LEGAL_COSTS</th>\n",
       "      <th>MAINTAINENCE_PRESERVATION_COSTS</th>\n",
       "      <th>TAXES_AND_INSURANCE</th>\n",
       "      <th>MISC_EXPENSES</th>\n",
       "      <th>ACTUAL_LOSS_CALCULATION</th>\n",
       "      <th>MODIFICATION_COST</th>\n",
       "    </tr>\n",
       "  </thead>\n",
       "  <tbody>\n",
       "    <tr>\n",
       "      <th>0</th>\n",
       "      <td>722</td>\n",
       "      <td>2005-04-01</td>\n",
       "      <td>N</td>\n",
       "      <td>203503</td>\n",
       "      <td>NaN</td>\n",
       "      <td>000</td>\n",
       "      <td>1</td>\n",
       "      <td>O</td>\n",
       "      <td>80.0</td>\n",
       "      <td>48</td>\n",
       "      <td>62000</td>\n",
       "      <td>80.0</td>\n",
       "      <td>5.750</td>\n",
       "      <td>R</td>\n",
       "      <td>N</td>\n",
       "      <td>FRM</td>\n",
       "      <td>WA</td>\n",
       "      <td>MH</td>\n",
       "      <td>98200.0</td>\n",
       "      <td>F105Q1000064</td>\n",
       "      <td>P</td>\n",
       "      <td>360</td>\n",
       "      <td>2.0</td>\n",
       "      <td>Other sellers</td>\n",
       "      <td>Other servicers</td>\n",
       "      <td>NaN</td>\n",
       "      <td>2009-12-01</td>\n",
       "      <td>0.0</td>\n",
       "      <td>0</td>\n",
       "      <td>57.0</td>\n",
       "      <td>303.0</td>\n",
       "      <td>N</td>\n",
       "      <td>NaN</td>\n",
       "      <td>1.0</td>\n",
       "      <td>200912.0</td>\n",
       "      <td>5.750</td>\n",
       "      <td>0.0</td>\n",
       "      <td>NaN</td>\n",
       "      <td>NaN</td>\n",
       "      <td>NaN</td>\n",
       "      <td>NaN</td>\n",
       "      <td>NaN</td>\n",
       "      <td>NaN</td>\n",
       "      <td>NaN</td>\n",
       "      <td>NaN</td>\n",
       "      <td>NaN</td>\n",
       "      <td>NaN</td>\n",
       "      <td>NaN</td>\n",
       "    </tr>\n",
       "    <tr>\n",
       "      <th>1</th>\n",
       "      <td>759</td>\n",
       "      <td>2005-03-01</td>\n",
       "      <td>N</td>\n",
       "      <td>203502</td>\n",
       "      <td>NaN</td>\n",
       "      <td>000</td>\n",
       "      <td>1</td>\n",
       "      <td>O</td>\n",
       "      <td>25.0</td>\n",
       "      <td>25</td>\n",
       "      <td>198000</td>\n",
       "      <td>25.0</td>\n",
       "      <td>5.250</td>\n",
       "      <td>R</td>\n",
       "      <td>N</td>\n",
       "      <td>FRM</td>\n",
       "      <td>MD</td>\n",
       "      <td>SF</td>\n",
       "      <td>20600.0</td>\n",
       "      <td>F105Q1000076</td>\n",
       "      <td>N</td>\n",
       "      <td>360</td>\n",
       "      <td>2.0</td>\n",
       "      <td>Other sellers</td>\n",
       "      <td>PNCMTGESERVICES,INC</td>\n",
       "      <td>NaN</td>\n",
       "      <td>2010-11-01</td>\n",
       "      <td>0.0</td>\n",
       "      <td>0</td>\n",
       "      <td>69.0</td>\n",
       "      <td>291.0</td>\n",
       "      <td>N</td>\n",
       "      <td>NaN</td>\n",
       "      <td>1.0</td>\n",
       "      <td>201011.0</td>\n",
       "      <td>5.250</td>\n",
       "      <td>0.0</td>\n",
       "      <td>NaN</td>\n",
       "      <td>NaN</td>\n",
       "      <td>NaN</td>\n",
       "      <td>NaN</td>\n",
       "      <td>NaN</td>\n",
       "      <td>NaN</td>\n",
       "      <td>NaN</td>\n",
       "      <td>NaN</td>\n",
       "      <td>NaN</td>\n",
       "      <td>NaN</td>\n",
       "      <td>NaN</td>\n",
       "    </tr>\n",
       "    <tr>\n",
       "      <th>2</th>\n",
       "      <td>591</td>\n",
       "      <td>2005-04-01</td>\n",
       "      <td>N</td>\n",
       "      <td>203503</td>\n",
       "      <td>39100.0</td>\n",
       "      <td>000</td>\n",
       "      <td>1</td>\n",
       "      <td>O</td>\n",
       "      <td>48.0</td>\n",
       "      <td>34</td>\n",
       "      <td>100000</td>\n",
       "      <td>48.0</td>\n",
       "      <td>5.750</td>\n",
       "      <td>R</td>\n",
       "      <td>N</td>\n",
       "      <td>FRM</td>\n",
       "      <td>NY</td>\n",
       "      <td>SF</td>\n",
       "      <td>12500.0</td>\n",
       "      <td>F105Q1000087</td>\n",
       "      <td>C</td>\n",
       "      <td>360</td>\n",
       "      <td>2.0</td>\n",
       "      <td>Other sellers</td>\n",
       "      <td>Other servicers</td>\n",
       "      <td>NaN</td>\n",
       "      <td>2006-09-01</td>\n",
       "      <td>0.0</td>\n",
       "      <td>0</td>\n",
       "      <td>18.0</td>\n",
       "      <td>342.0</td>\n",
       "      <td>N</td>\n",
       "      <td>NaN</td>\n",
       "      <td>1.0</td>\n",
       "      <td>200609.0</td>\n",
       "      <td>5.750</td>\n",
       "      <td>0.0</td>\n",
       "      <td>NaN</td>\n",
       "      <td>NaN</td>\n",
       "      <td>NaN</td>\n",
       "      <td>NaN</td>\n",
       "      <td>NaN</td>\n",
       "      <td>NaN</td>\n",
       "      <td>NaN</td>\n",
       "      <td>NaN</td>\n",
       "      <td>NaN</td>\n",
       "      <td>NaN</td>\n",
       "      <td>NaN</td>\n",
       "    </tr>\n",
       "    <tr>\n",
       "      <th>3</th>\n",
       "      <td>792</td>\n",
       "      <td>2005-03-01</td>\n",
       "      <td>N</td>\n",
       "      <td>203502</td>\n",
       "      <td>39100.0</td>\n",
       "      <td>000</td>\n",
       "      <td>1</td>\n",
       "      <td>O</td>\n",
       "      <td>90.0</td>\n",
       "      <td>33</td>\n",
       "      <td>334000</td>\n",
       "      <td>80.0</td>\n",
       "      <td>5.875</td>\n",
       "      <td>R</td>\n",
       "      <td>N</td>\n",
       "      <td>FRM</td>\n",
       "      <td>NY</td>\n",
       "      <td>SF</td>\n",
       "      <td>12500.0</td>\n",
       "      <td>F105Q1000130</td>\n",
       "      <td>P</td>\n",
       "      <td>360</td>\n",
       "      <td>2.0</td>\n",
       "      <td>Other sellers</td>\n",
       "      <td>Other servicers</td>\n",
       "      <td>NaN</td>\n",
       "      <td>2013-11-01</td>\n",
       "      <td>0.0</td>\n",
       "      <td>0</td>\n",
       "      <td>105.0</td>\n",
       "      <td>255.0</td>\n",
       "      <td>N</td>\n",
       "      <td>NaN</td>\n",
       "      <td>1.0</td>\n",
       "      <td>201311.0</td>\n",
       "      <td>5.875</td>\n",
       "      <td>0.0</td>\n",
       "      <td>NaN</td>\n",
       "      <td>NaN</td>\n",
       "      <td>NaN</td>\n",
       "      <td>NaN</td>\n",
       "      <td>NaN</td>\n",
       "      <td>NaN</td>\n",
       "      <td>NaN</td>\n",
       "      <td>NaN</td>\n",
       "      <td>NaN</td>\n",
       "      <td>NaN</td>\n",
       "      <td>NaN</td>\n",
       "    </tr>\n",
       "    <tr>\n",
       "      <th>4</th>\n",
       "      <td>725</td>\n",
       "      <td>2005-03-01</td>\n",
       "      <td>N</td>\n",
       "      <td>203502</td>\n",
       "      <td>48864.0</td>\n",
       "      <td>000</td>\n",
       "      <td>1</td>\n",
       "      <td>O</td>\n",
       "      <td>49.0</td>\n",
       "      <td>41</td>\n",
       "      <td>125000</td>\n",
       "      <td>49.0</td>\n",
       "      <td>5.875</td>\n",
       "      <td>R</td>\n",
       "      <td>N</td>\n",
       "      <td>FRM</td>\n",
       "      <td>DE</td>\n",
       "      <td>SF</td>\n",
       "      <td>19700.0</td>\n",
       "      <td>F105Q1000195</td>\n",
       "      <td>N</td>\n",
       "      <td>360</td>\n",
       "      <td>2.0</td>\n",
       "      <td>Other sellers</td>\n",
       "      <td>USBANKNA</td>\n",
       "      <td>NaN</td>\n",
       "      <td>2011-11-01</td>\n",
       "      <td>0.0</td>\n",
       "      <td>0</td>\n",
       "      <td>81.0</td>\n",
       "      <td>279.0</td>\n",
       "      <td>N</td>\n",
       "      <td>NaN</td>\n",
       "      <td>1.0</td>\n",
       "      <td>201111.0</td>\n",
       "      <td>5.875</td>\n",
       "      <td>0.0</td>\n",
       "      <td>NaN</td>\n",
       "      <td>NaN</td>\n",
       "      <td>NaN</td>\n",
       "      <td>NaN</td>\n",
       "      <td>NaN</td>\n",
       "      <td>NaN</td>\n",
       "      <td>NaN</td>\n",
       "      <td>NaN</td>\n",
       "      <td>NaN</td>\n",
       "      <td>NaN</td>\n",
       "      <td>NaN</td>\n",
       "    </tr>\n",
       "  </tbody>\n",
       "</table>\n",
       "</div>"
      ],
      "text/plain": [
       "  CREDIT_SCORE FIRST_PAYMENT_DATE FIRST_TIME_HOMEBUYER_FLAG  MATURITY_DATE  \\\n",
       "0          722         2005-04-01                         N         203503   \n",
       "1          759         2005-03-01                         N         203502   \n",
       "2          591         2005-04-01                         N         203503   \n",
       "3          792         2005-03-01                         N         203502   \n",
       "4          725         2005-03-01                         N         203502   \n",
       "\n",
       "       MSA MORTAGAGE_INSURANCE_PERCENTAGE  NUMBER_OF_UNITS OCCUPANCY_STATUS  \\\n",
       "0      NaN                            000                1                O   \n",
       "1      NaN                            000                1                O   \n",
       "2  39100.0                            000                1                O   \n",
       "3  39100.0                            000                1                O   \n",
       "4  48864.0                            000                1                O   \n",
       "\n",
       "   ORGINAL_COMBINED_LOAN_TO_VALUE ORIGINAL_DEBT_TO_INCOME_RATIO  ORIGINAL_UPB  \\\n",
       "0                            80.0                            48         62000   \n",
       "1                            25.0                            25        198000   \n",
       "2                            48.0                            34        100000   \n",
       "3                            90.0                            33        334000   \n",
       "4                            49.0                            41        125000   \n",
       "\n",
       "   ORIGINAL_LOAN_TO_VALUE  ORIGINAL_INTEREST_RATE CHANNEL  \\\n",
       "0                    80.0                   5.750       R   \n",
       "1                    25.0                   5.250       R   \n",
       "2                    48.0                   5.750       R   \n",
       "3                    80.0                   5.875       R   \n",
       "4                    49.0                   5.875       R   \n",
       "\n",
       "  PREPAYMENT_PENALTY_MORTGAGE_FLAG PRODUCT_TYPE PROPERTY_STATE PROPERTY_TYPE  \\\n",
       "0                                N          FRM             WA            MH   \n",
       "1                                N          FRM             MD            SF   \n",
       "2                                N          FRM             NY            SF   \n",
       "3                                N          FRM             NY            SF   \n",
       "4                                N          FRM             DE            SF   \n",
       "\n",
       "   POSTAL_CODE LOAN_SEQUENCE_NUMBER LOAN_PURPOSE  ORIGINAL_LOAN_TERM  \\\n",
       "0      98200.0         F105Q1000064            P                 360   \n",
       "1      20600.0         F105Q1000076            N                 360   \n",
       "2      12500.0         F105Q1000087            C                 360   \n",
       "3      12500.0         F105Q1000130            P                 360   \n",
       "4      19700.0         F105Q1000195            N                 360   \n",
       "\n",
       "   NUMBER_OF_BORROWERS    SELLER_NAME        SERVICER_NAME  \\\n",
       "0                  2.0  Other sellers      Other servicers   \n",
       "1                  2.0  Other sellers  PNCMTGESERVICES,INC   \n",
       "2                  2.0  Other sellers      Other servicers   \n",
       "3                  2.0  Other sellers      Other servicers   \n",
       "4                  2.0  Other sellers             USBANKNA   \n",
       "\n",
       "   SUPER_CONFORMING_FLAG MONTHLY_REPORTING_PERIOD  CURENT_ACTUAL_UPB  \\\n",
       "0                    NaN               2009-12-01                0.0   \n",
       "1                    NaN               2010-11-01                0.0   \n",
       "2                    NaN               2006-09-01                0.0   \n",
       "3                    NaN               2013-11-01                0.0   \n",
       "4                    NaN               2011-11-01                0.0   \n",
       "\n",
       "  CURRENT_LOAN_DELINQUENCY_STATUS  LOAN_AGE  \\\n",
       "0                               0      57.0   \n",
       "1                               0      69.0   \n",
       "2                               0      18.0   \n",
       "3                               0     105.0   \n",
       "4                               0      81.0   \n",
       "\n",
       "   REMAINING_MONTHS_TO_LEAGL_MATURITY REPURCHASE_FLAG MODIFICATION_FLAG  \\\n",
       "0                               303.0               N               NaN   \n",
       "1                               291.0               N               NaN   \n",
       "2                               342.0               N               NaN   \n",
       "3                               255.0               N               NaN   \n",
       "4                               279.0               N               NaN   \n",
       "\n",
       "   ZERO_BALANCE_CODE  ZERO_BALANCE_EFFECTIVE_DATE  CURRENT_INTEREST_RATE  \\\n",
       "0                1.0                     200912.0                  5.750   \n",
       "1                1.0                     201011.0                  5.250   \n",
       "2                1.0                     200609.0                  5.750   \n",
       "3                1.0                     201311.0                  5.875   \n",
       "4                1.0                     201111.0                  5.875   \n",
       "\n",
       "   CURRENT_DEFEREED_UPB  DUE_DATE_OF_LAST_PAID_INSTALLMENT  MI_RECOVERIES  \\\n",
       "0                   0.0                                NaN            NaN   \n",
       "1                   0.0                                NaN            NaN   \n",
       "2                   0.0                                NaN            NaN   \n",
       "3                   0.0                                NaN            NaN   \n",
       "4                   0.0                                NaN            NaN   \n",
       "\n",
       "  NET_SALES_PROCEEDS  NON_MI_RECOVERIES  EXPENSES  LEGAL_COSTS  \\\n",
       "0                NaN                NaN       NaN          NaN   \n",
       "1                NaN                NaN       NaN          NaN   \n",
       "2                NaN                NaN       NaN          NaN   \n",
       "3                NaN                NaN       NaN          NaN   \n",
       "4                NaN                NaN       NaN          NaN   \n",
       "\n",
       "   MAINTAINENCE_PRESERVATION_COSTS  TAXES_AND_INSURANCE  MISC_EXPENSES  \\\n",
       "0                              NaN                  NaN            NaN   \n",
       "1                              NaN                  NaN            NaN   \n",
       "2                              NaN                  NaN            NaN   \n",
       "3                              NaN                  NaN            NaN   \n",
       "4                              NaN                  NaN            NaN   \n",
       "\n",
       "   ACTUAL_LOSS_CALCULATION  MODIFICATION_COST  \n",
       "0                      NaN                NaN  \n",
       "1                      NaN                NaN  \n",
       "2                      NaN                NaN  \n",
       "3                      NaN                NaN  \n",
       "4                      NaN                NaN  "
      ]
     },
     "execution_count": 45,
     "metadata": {},
     "output_type": "execute_result"
    }
   ],
   "source": [
    "year=input(\"enter year for analysis\")\n",
    "freddie1 = pd.read_csv('./processed/summary_'+str(year)+'.csv')\n",
    "freddie1.drop(freddie1.columns[:1], axis=1, inplace=True)\n",
    "freddie1.rename(columns=lambda x: re.sub('[.]','_',x), inplace=True)\n",
    "freddie1.head()\n"
   ]
  },
  {
   "cell_type": "code",
   "execution_count": 46,
   "metadata": {
    "collapsed": false
   },
   "outputs": [
    {
     "data": {
      "text/plain": [
       "array([1, 0, 6, 9, 3])"
      ]
     },
     "execution_count": 46,
     "metadata": {},
     "output_type": "execute_result"
    }
   ],
   "source": [
    "freddie1.loc[freddie1['ZERO_BALANCE_CODE'].isnull(), 'ZERO_BALANCE_CODE'] = 0\n",
    "freddie1['ZERO_BALANCE_CODE']=freddie1['ZERO_BALANCE_CODE'].astype('int')\n",
    "freddie1['ZERO_BALANCE_CODE'].unique()"
   ]
  },
  {
   "cell_type": "code",
   "execution_count": 47,
   "metadata": {
    "collapsed": true
   },
   "outputs": [],
   "source": [
    "# List of all helper functions\n",
    "def extract_status_year(df, col, x):\n",
    "    '''\n",
    "    This function is to extract the year of last report time. For groupby purpose\n",
    "    Instead of using the datetime object, let's use the string function to extract year\n",
    "    '''\n",
    "    value=0\n",
    "    if (pd.isnull(df.ix[x,col])):\n",
    "        value=year\n",
    "    else:\n",
    "        value=df.ix[x,col].split('-')[0]\n",
    "    return value\n",
    "\n",
    "\n",
    "def extract_status_default(df, x):\n",
    "    '''\n",
    "    This function is to extract the year of last report time. For groupby purpose\n",
    "    Instead of using the datetime object, let's use the string function to extract year\n",
    "    '''\n",
    "    if (df.ix[x,'ZERO_BALANCE_CODE'] == 0) or (df.ix[x,'ZERO_BALANCE_CODE'] == 1):\n",
    "        return 'Healthy'\n",
    "    elif (df.ix[x,'ZERO_BALANCE_CODE'] == 3) or (df.ix[x,'ZERO_BALANCE_CODE'] == 6) or (df.ix[x,'ZERO_BALANCE_CODE'] == 9):\n",
    "        return 'Default'\n",
    "    else:\n",
    "        \n",
    "        return 'NA'\n",
    "\n"
   ]
  },
  {
   "cell_type": "markdown",
   "metadata": {},
   "source": [
    "## Evolution of default rate"
   ]
  },
  {
   "cell_type": "code",
   "execution_count": 48,
   "metadata": {
    "collapsed": false
   },
   "outputs": [
    {
     "name": "stdout",
     "output_type": "stream",
     "text": [
      "Total number of record is: 50000\n"
     ]
    }
   ],
   "source": [
    "# Total number of record\n",
    "total_num = len(freddie1)\n",
    "print(\"Total number of record is: {}\".format(total_num))"
   ]
  },
  {
   "cell_type": "code",
   "execution_count": 49,
   "metadata": {
    "collapsed": false
   },
   "outputs": [
    {
     "name": "stdout",
     "output_type": "stream",
     "text": [
      "Total number of prepaid is 40299\n",
      "Total prepaid ratio is 0.80598\n"
     ]
    }
   ],
   "source": [
    "# Number of prepaid\n",
    "total_prepaid = len(freddie1.ix[freddie1['ZERO_BALANCE_CODE'] == 1])\n",
    "print(\"Total number of prepaid is {}\".format(total_prepaid))\n",
    "print(\"Total prepaid ratio is {}\".format(total_prepaid/total_num))"
   ]
  },
  {
   "cell_type": "code",
   "execution_count": 50,
   "metadata": {
    "collapsed": false
   },
   "outputs": [
    {
     "name": "stdout",
     "output_type": "stream",
     "text": [
      "Total number of default is: 2685\n",
      "Total default ratio is 0.0537\n"
     ]
    }
   ],
   "source": [
    "freddie1_default = freddie1.ix[(freddie1['ZERO_BALANCE_CODE'] == 9) | (freddie1['ZERO_BALANCE_CODE'] == 6) |\n",
    "                              (freddie1['ZERO_BALANCE_CODE'] == 3)]\n",
    "# Number of default\n",
    "total_default = len(freddie1_default)\n",
    "print(\"Total number of default is: {}\".format(total_default))\n",
    "print(\"Total default ratio is {}\".format(total_default/total_num))"
   ]
  },
  {
   "cell_type": "code",
   "execution_count": 51,
   "metadata": {
    "collapsed": false
   },
   "outputs": [],
   "source": [
    "total_default_by_year = freddie1_default.groupby(lambda x:extract_status_year(freddie1,'MONTHLY_REPORTING_PERIOD',x))['LOAN_SEQUENCE_NUMBER'].count()\n",
    "total_by_year = freddie1.groupby(lambda x:extract_status_year(freddie1,'FIRST_PAYMENT_DATE',x))['LOAN_SEQUENCE_NUMBER'].count()"
   ]
  },
  {
   "cell_type": "code",
   "execution_count": 52,
   "metadata": {
    "collapsed": false
   },
   "outputs": [
    {
     "data": {
      "text/plain": [
       "<matplotlib.axes._subplots.AxesSubplot at 0x11b52f2b0>"
      ]
     },
     "execution_count": 52,
     "metadata": {},
     "output_type": "execute_result"
    },
    {
     "data": {
      "image/png": "[encoded data removed]",
      "text/plain": [
       "<matplotlib.figure.Figure at 0x11b52fbe0>"
      ]
     },
     "metadata": {},
     "output_type": "display_data"
    }
   ],
   "source": [
    "total_default_by_year.name='Default number'\n",
    "total_by_year.name='Total number'\n",
    "default_rate_by_year = pd.concat([total_default_by_year,total_by_year],axis = 1, join='outer')\n",
    "default_rate_by_year['Default_Rate'] = default_rate_by_year['Default number']/default_rate_by_year['Total number']\n",
    "default_rate_by_year.plot(y='Default_Rate')"
   ]
  },
  {
   "cell_type": "markdown",
   "metadata": {},
   "source": [
    "### Some comments about the default rate evolution\n",
    "From the plot above, there is a tendency to say the default rate peaks at 2011. However, this dataset is just a subset of all Freddic's single family data. Also, many loan won't default in a short period of time. These factors all contribute to the increase of default rate at 2011. The dataset also cuts off in 2012, which probably explains why we see a decrease after 2011."
   ]
  },
  {
   "cell_type": "markdown",
   "metadata": {},
   "source": [
    "## Number of applicants per year"
   ]
  },
  {
   "cell_type": "code",
   "execution_count": 53,
   "metadata": {
    "collapsed": false
   },
   "outputs": [
    {
     "data": {
      "text/plain": [
       "<matplotlib.axes._subplots.AxesSubplot at 0x11afb4748>"
      ]
     },
     "execution_count": 53,
     "metadata": {},
     "output_type": "execute_result"
    },
    {
     "data": {
      "image/png": "[encoded data removed]",
      "text/plain": [
       "<matplotlib.figure.Figure at 0x11afb4eb8>"
      ]
     },
     "metadata": {},
     "output_type": "display_data"
    }
   ],
   "source": [
    "total_applications_by_year = freddie1.groupby(lambda x:extract_status_year(freddie1,'FIRST_PAYMENT_DATE',x))['LOAN_SEQUENCE_NUMBER'].count()\n",
    "total_applications_by_year.plot(kind='bar')"
   ]
  },
  {
   "cell_type": "markdown",
   "metadata": {},
   "source": [
    "## The evolution of interest rate by year"
   ]
  },
  {
   "cell_type": "code",
   "execution_count": 54,
   "metadata": {
    "collapsed": false
   },
   "outputs": [],
   "source": [
    "rate_by_year = freddie1.groupby(lambda x:extract_status_year(freddie1,'FIRST_PAYMENT_DATE',x))['ORIGINAL_INTEREST_RATE'].mean()"
   ]
  },
  {
   "cell_type": "code",
   "execution_count": 55,
   "metadata": {
    "collapsed": false
   },
   "outputs": [
    {
     "data": {
      "text/plain": [
       "<matplotlib.axes._subplots.AxesSubplot at 0x11b51d518>"
      ]
     },
     "execution_count": 55,
     "metadata": {},
     "output_type": "execute_result"
    },
    {
     "data": {
      "image/png": "[encoded data removed]",
      "text/plain": [
       "<matplotlib.figure.Figure at 0x11abe4ef0>"
      ]
     },
     "metadata": {},
     "output_type": "display_data"
    }
   ],
   "source": [
    "rate_by_year.plot()"
   ]
  },
  {
   "cell_type": "code",
   "execution_count": 56,
   "metadata": {
    "collapsed": false
   },
   "outputs": [],
   "source": [
    "# Any different in each state?\n",
    "rate_by_year_state = freddie1.groupby([lambda x:extract_status_year(freddie1,'FIRST_PAYMENT_DATE',x),'PROPERTY_STATE'])['ORIGINAL_INTEREST_RATE'].mean()"
   ]
  },
  {
   "cell_type": "code",
   "execution_count": 57,
   "metadata": {
    "collapsed": false,
    "scrolled": true
   },
   "outputs": [
    {
     "data": {
      "image/png": "[encoded data removed]",
      "text/plain": [
       "<matplotlib.figure.Figure at 0x11b19a940>"
      ]
     },
     "metadata": {},
     "output_type": "display_data"
    }
   ],
   "source": [
    "rate_by_year_state = rate_by_year_state.unstack(level=0)\n",
    "\n",
    "i = int(np.ceil(freddie1['PROPERTY_STATE'].nunique()/4))\n",
    "j = 4\n",
    "fig, axes = plt.subplots(i,j, figsize=(10, 8))\n",
    "plt.subplots_adjust(wspace=0.5, hspace=0.5)\n",
    "i2 = 0\n",
    "j2=0\n",
    "for state in rate_by_year_state.index:\n",
    "    axes[i2,j2].plot(rate_by_year_state.ix[state,])\n",
    "    axes[i2,j2].set_title(state)\n",
    "    axes[i2,j2].get_xaxis().set_visible(False)\n",
    "    j2 += 1\n",
    "    if j2 > 3:\n",
    "        i2 += 1\n",
    "        i2 = i2 % i\n",
    "    j2 = j2 % j"
   ]
  },
  {
   "cell_type": "markdown",
   "metadata": {},
   "source": [
    "### Comments on rates by states plot\n",
    "###pending"
   ]
  },
  {
   "cell_type": "markdown",
   "metadata": {},
   "source": [
    "## Default cases in each year\n"
   ]
  },
  {
   "cell_type": "code",
   "execution_count": 58,
   "metadata": {
    "collapsed": false
   },
   "outputs": [
    {
     "data": {
      "text/plain": [
       "<matplotlib.axes._subplots.AxesSubplot at 0x11b19aef0>"
      ]
     },
     "execution_count": 58,
     "metadata": {},
     "output_type": "execute_result"
    },
    {
     "data": {
      "image/png": "[encoded data removed]",
      "text/plain": [
       "<matplotlib.figure.Figure at 0x111eff7b8>"
      ]
     },
     "metadata": {},
     "output_type": "display_data"
    }
   ],
   "source": [
    "default_by_year = pd.concat([total_by_year,total_default_by_year], join='outer', axis=1)#.reset_index().plot()\n",
    "default_by_year['Rate'] = default_by_year['Default number']/default_by_year['Total number']\n",
    "default_by_year['Rate'].plot(kind='bar')"
   ]
  },
  {
   "cell_type": "markdown",
   "metadata": {},
   "source": [
    "## Default cases in each state each year"
   ]
  },
  {
   "cell_type": "code",
   "execution_count": 81,
   "metadata": {
    "collapsed": false
   },
   "outputs": [],
   "source": [
    "default_by_year_state = freddie1_default.groupby([lambda x:extract_status_year(freddie1,'MONTHLY_REPORTING_PERIOD',x), \n",
    "                                                 'PROPERTY_STATE'])['LOAN_SEQUENCE_NUMBER'].count()"
   ]
  },
  {
   "cell_type": "code",
   "execution_count": 82,
   "metadata": {
    "collapsed": false
   },
   "outputs": [],
   "source": [
    "total_by_year_state = freddie1.groupby([lambda x:extract_status_year(freddie1,'MONTHLY_REPORTING_PERIOD',x), \n",
    "                                                 'PROPERTY_STATE'])['LOAN_SEQUENCE_NUMBER'].count()"
   ]
  },
  {
   "cell_type": "code",
   "execution_count": 61,
   "metadata": {
    "collapsed": false
   },
   "outputs": [],
   "source": [
    "default_by_year_state.name='default_cases_by_state'\n",
    "total_by_year_state.name='total_cases_by_state'"
   ]
  },
  {
   "cell_type": "code",
   "execution_count": 62,
   "metadata": {
    "collapsed": false
   },
   "outputs": [
    {
     "data": {
      "text/plain": [
       "array([<matplotlib.axes._subplots.AxesSubplot object at 0x11ba7c5f8>,\n",
       "       <matplotlib.axes._subplots.AxesSubplot object at 0x120a1ea20>,\n",
       "       <matplotlib.axes._subplots.AxesSubplot object at 0x1209f62e8>,\n",
       "       <matplotlib.axes._subplots.AxesSubplot object at 0x11f073ac8>,\n",
       "       <matplotlib.axes._subplots.AxesSubplot object at 0x11ebefb38>,\n",
       "       <matplotlib.axes._subplots.AxesSubplot object at 0x11ebefb70>,\n",
       "       <matplotlib.axes._subplots.AxesSubplot object at 0x11db6f3c8>,\n",
       "       <matplotlib.axes._subplots.AxesSubplot object at 0x11dad2eb8>,\n",
       "       <matplotlib.axes._subplots.AxesSubplot object at 0x11da77f60>,\n",
       "       <matplotlib.axes._subplots.AxesSubplot object at 0x120a62748>,\n",
       "       <matplotlib.axes._subplots.AxesSubplot object at 0x121ecf198>,\n",
       "       <matplotlib.axes._subplots.AxesSubplot object at 0x10fc36978>], dtype=object)"
      ]
     },
     "execution_count": 62,
     "metadata": {},
     "output_type": "execute_result"
    },
    {
     "data": {
      "image/png": "[encoded data removed]",
      "text/plain": [
       "<matplotlib.figure.Figure at 0x11d9e9940>"
      ]
     },
     "metadata": {},
     "output_type": "display_data"
    }
   ],
   "source": [
    "default_stat_by_year_state = pd.concat([default_by_year_state, \n",
    "                                      total_by_year_state], join='inner', axis=1)\n",
    "\n",
    "default_stat_by_year_state['Rate'] = default_stat_by_year_state['default_cases_by_state']/default_stat_by_year_state['total_cases_by_state']\n",
    "default_stat_by_year_state.unstack(level=0).plot(y='Rate',kind='bar',subplots=True)"
   ]
  },
  {
   "cell_type": "code",
   "execution_count": 63,
   "metadata": {
    "collapsed": false,
    "scrolled": true
   },
   "outputs": [
    {
     "data": {
      "text/plain": [
       "      PROPERTY_STATE\n",
       "2011  NV                0.538462\n",
       "2014  RI                0.500000\n",
       "2009  NV                0.447368\n",
       "2011  AZ                0.408451\n",
       "2014  DE                0.400000\n",
       "      WV                0.375000\n",
       "2015  NV                0.347826\n",
       "      NJ                0.340000\n",
       "      DC                0.333333\n",
       "2014  VT                0.333333\n",
       "2005  MT                0.333333\n",
       "2014  MT                0.333333\n",
       "      FL                0.324022\n",
       "2015  IA                0.300000\n",
       "2011  FL                0.297945\n",
       "2015  MD                0.292683\n",
       "      DE                0.272727\n",
       "2010  AZ                0.269737\n",
       "2015  FL                0.258706\n",
       "2012  NV                0.250000\n",
       "      RI                0.250000\n",
       "2014  ID                0.250000\n",
       "2015  HI                0.250000\n",
       "2010  FL                0.237037\n",
       "2014  WI                0.224490\n",
       "      CT                0.222222\n",
       "2011  MI                0.214660\n",
       "2010  MI                0.213592\n",
       "2015  RI                0.200000\n",
       "2010  NV                0.200000\n",
       "                          ...   \n",
       "2007  WI                0.009709\n",
       "2016  KY                0.009709\n",
       "      MI                0.009615\n",
       "2013  MD                0.009524\n",
       "2006  FL                0.009259\n",
       "2016  PR                0.009009\n",
       "2010  PA                0.008734\n",
       "2009  KY                0.008547\n",
       "2007  PA                0.008475\n",
       "2016  TN                0.008264\n",
       "2010  OR                0.008197\n",
       "2006  TX                0.008000\n",
       "2016  TX                0.007937\n",
       "      OR                0.007874\n",
       "2006  PA                0.007812\n",
       "2007  NC                0.007519\n",
       "2016  SC                0.007353\n",
       "2013  NY                0.007353\n",
       "2007  VA                0.007246\n",
       "2016  WI                0.006803\n",
       "2007  MD                0.006494\n",
       "      AZ                0.006061\n",
       "2009  NC                0.005435\n",
       "      MD                0.005348\n",
       "2016  MO                0.005263\n",
       "2006  CA                0.004587\n",
       "2009  WA                0.004545\n",
       "2011  NY                0.004505\n",
       "2016  CA                0.004418\n",
       "      VA                0.004405\n",
       "Name: Rate, dtype: float64"
      ]
     },
     "execution_count": 63,
     "metadata": {},
     "output_type": "execute_result"
    }
   ],
   "source": [
    "default_stat_by_year_state.sort_values(by='Rate',ascending=False)['Rate']#.unstack(level=0).plot(y='Rate',kind='bar',subplots=True)"
   ]
  },
  {
   "cell_type": "markdown",
   "metadata": {},
   "source": [
    "## Default case by their credit score"
   ]
  },
  {
   "cell_type": "markdown",
   "metadata": {},
   "source": [
    "### Distribution of credit score"
   ]
  },
  {
   "cell_type": "code",
   "execution_count": 64,
   "metadata": {
    "collapsed": false
   },
   "outputs": [
    {
     "data": {
      "text/plain": [
       "count    49976.000000\n",
       "mean       724.019669\n",
       "std         58.536615\n",
       "min        300.000000\n",
       "25%        683.000000\n",
       "50%        730.000000\n",
       "75%        772.000000\n",
       "max        842.000000\n",
       "Name: CREDIT_SCORE, dtype: float64"
      ]
     },
     "execution_count": 64,
     "metadata": {},
     "output_type": "execute_result"
    }
   ],
   "source": [
    "freddie1['CREDIT_SCORE']=freddie1['CREDIT_SCORE'].convert_objects(convert_numeric=True)\n",
    "freddie1['CREDIT_SCORE'].describe()"
   ]
  },
  {
   "cell_type": "markdown",
   "metadata": {},
   "source": [
    "### Credit score statistics\n",
    "\n",
    "The average credit score of all applications is 724. Suprising. Then average potential home owner has a **excellent credit score** .If you have credit score less than 700 then you are already at only 25% percentile!"
   ]
  },
  {
   "cell_type": "code",
   "execution_count": 65,
   "metadata": {
    "collapsed": false
   },
   "outputs": [
    {
     "data": {
      "text/plain": [
       "<matplotlib.axes._subplots.AxesSubplot at 0x11df2ef28>"
      ]
     },
     "execution_count": 65,
     "metadata": {},
     "output_type": "execute_result"
    },
    {
     "data": {
      "image/png": "[encoded data removed]",
      "text/plain": [
       "<matplotlib.figure.Figure at 0x11b1c9908>"
      ]
     },
     "metadata": {},
     "output_type": "display_data"
    }
   ],
   "source": [
    "freddie1['CREDIT_SCORE'].hist()"
   ]
  },
  {
   "cell_type": "code",
   "execution_count": 66,
   "metadata": {
    "collapsed": false
   },
   "outputs": [],
   "source": [
    "total_by_loan_status = freddie1.groupby([lambda x: extract_status_default(freddie1, x),\n",
    "                                        lambda x:extract_status_year(freddie1,'FIRST_PAYMENT_DATE',x)])['CREDIT_SCORE'].mean()"
   ]
  },
  {
   "cell_type": "code",
   "execution_count": 67,
   "metadata": {
    "collapsed": false
   },
   "outputs": [
    {
     "data": {
      "text/plain": [
       "<matplotlib.axes._subplots.AxesSubplot at 0x11d4f89e8>"
      ]
     },
     "execution_count": 67,
     "metadata": {},
     "output_type": "execute_result"
    },
    {
     "data": {
      "image/png": "[encoded data removed]",
      "text/plain": [
       "<matplotlib.figure.Figure at 0x11ecb8ef0>"
      ]
     },
     "metadata": {},
     "output_type": "display_data"
    }
   ],
   "source": [
    "total_by_loan_status.unstack(level=0).plot(kind='bar')"
   ]
  },
  {
   "cell_type": "markdown",
   "metadata": {},
   "source": [
    "### Loan Status and Its credit score\n",
    "\n",
    "This graph shows some interesting findings:\n",
    "\n",
    "1. The overall trend of applicant's credit score is increasing by year.\n",
    "2. Default cases **does** have lower average credit score compared to non-default cases. Therefore, credit score should be considered as one feature in the following machine learning model.\n"
   ]
  },
  {
   "cell_type": "markdown",
   "metadata": {},
   "source": [
    "## Initial Loan-to-Value ratio by status"
   ]
  },
  {
   "cell_type": "code",
   "execution_count": 83,
   "metadata": {
    "collapsed": false
   },
   "outputs": [],
   "source": [
    "LTV_by_loan_status = freddie1.groupby([lambda x: extract_status_default(freddie1, x),\n",
    "                                        lambda x:extract_status_year(freddie1,'FIRST_PAYMENT_DATE',x)])['ORIGINAL_LOAN_TO_VALUE'].mean()"
   ]
  },
  {
   "cell_type": "code",
   "execution_count": 84,
   "metadata": {
    "collapsed": false
   },
   "outputs": [
    {
     "data": {
      "text/plain": [
       "<matplotlib.axes._subplots.AxesSubplot at 0x10307b9e8>"
      ]
     },
     "execution_count": 84,
     "metadata": {},
     "output_type": "execute_result"
    },
    {
     "data": {
      "image/png": "[encoded data removed]",
      "text/plain": [
       "<matplotlib.figure.Figure at 0x11def0d68>"
      ]
     },
     "metadata": {},
     "output_type": "display_data"
    }
   ],
   "source": [
    "LTV_by_loan_status.unstack(level=0).plot(kind='bar')"
   ]
  },
  {
   "cell_type": "markdown",
   "metadata": {},
   "source": [
    "### Original Loan to value ratio (OLTV)\n",
    "\n",
    "Another interesting plot. Clearly, healthy loan has OLTVs around 70%, while default cases are at 80%. This makes sense too. As higher OLTV means you borrow more money to buy the house, which makes the mortgage riskier."
   ]
  },
  {
   "cell_type": "markdown",
   "metadata": {},
   "source": [
    "## Debt-to-Income ratio"
   ]
  },
  {
   "cell_type": "code",
   "execution_count": 85,
   "metadata": {
    "collapsed": false
   },
   "outputs": [],
   "source": [
    "freddie1['ORIGINAL_DEBT_TO_INCOME_RATIO']=freddie1['ORIGINAL_DEBT_TO_INCOME_RATIO'].convert_objects(convert_numeric=True)\n",
    "DTI_by_loan_status = freddie1.groupby([lambda x: extract_status_default(freddie1, x),\n",
    "                                        lambda x:extract_status_year(freddie1,'FIRST_PAYMENT_DATE',x)])['ORIGINAL_DEBT_TO_INCOME_RATIO'].mean()"
   ]
  },
  {
   "cell_type": "code",
   "execution_count": 86,
   "metadata": {
    "collapsed": false
   },
   "outputs": [
    {
     "data": {
      "text/plain": [
       "<matplotlib.axes._subplots.AxesSubplot at 0x1229c1da0>"
      ]
     },
     "execution_count": 86,
     "metadata": {},
     "output_type": "execute_result"
    },
    {
     "data": {
      "image/png": "[encoded data removed]",
      "text/plain": [
       "<matplotlib.figure.Figure at 0x11d532278>"
      ]
     },
     "metadata": {},
     "output_type": "display_data"
    }
   ],
   "source": [
    "DTI_by_loan_status.unstack(level=0).plot(kind='bar')"
   ]
  },
  {
   "cell_type": "markdown",
   "metadata": {},
   "source": [
    "### Debt-to-Income ratio (DTI)\n",
    "\n",
    "There are a lot of websites out there to tell you how much you can afford to buy a house. Like [this one](http://www.realtor.com/mortgage/tools/affordability-calculator/). The conservative approach uses ~37% as DTI and the aggressive uses 41%. Analysis of Freddic's data kind of supports this theory. Default cases in general has higher DTI compared to those non-default cases. Also, before the sub-prime crisis, you can get a loan with DTI higher than 40%. Now, the general trend of DTI becomes more and more conservative. DTI rates are now between 30-35%. So next time when you use the online house affordability calculator."
   ]
  },
  {
   "cell_type": "markdown",
   "metadata": {},
   "source": [
    "## Loan purpose analysis"
   ]
  },
  {
   "cell_type": "code",
   "execution_count": 87,
   "metadata": {
    "collapsed": false
   },
   "outputs": [],
   "source": [
    "purpose_status = freddie1.groupby([lambda x: extract_status_default(freddie1, x), 'LOAN_PURPOSE'])['LOAN_SEQUENCE_NUMBER'].count()"
   ]
  },
  {
   "cell_type": "code",
   "execution_count": 73,
   "metadata": {
    "collapsed": false
   },
   "outputs": [],
   "source": [
    "purpose_status = purpose_status.unstack(level=0)"
   ]
  },
  {
   "cell_type": "code",
   "execution_count": 74,
   "metadata": {
    "collapsed": false,
    "scrolled": true
   },
   "outputs": [
    {
     "data": {
      "text/html": [
       "<div>\n",
       "<table border=\"1\" class=\"dataframe\">\n",
       "  <thead>\n",
       "    <tr style=\"text-align: right;\">\n",
       "      <th></th>\n",
       "      <th>Default</th>\n",
       "      <th>Healthy</th>\n",
       "      <th>Default_Ratio</th>\n",
       "    </tr>\n",
       "    <tr>\n",
       "      <th>LOAN_PURPOSE</th>\n",
       "      <th></th>\n",
       "      <th></th>\n",
       "      <th></th>\n",
       "    </tr>\n",
       "  </thead>\n",
       "  <tbody>\n",
       "    <tr>\n",
       "      <th>C</th>\n",
       "      <td>1104</td>\n",
       "      <td>17961</td>\n",
       "      <td>0.061467</td>\n",
       "    </tr>\n",
       "    <tr>\n",
       "      <th>N</th>\n",
       "      <td>511</td>\n",
       "      <td>11093</td>\n",
       "      <td>0.046065</td>\n",
       "    </tr>\n",
       "    <tr>\n",
       "      <th>P</th>\n",
       "      <td>1070</td>\n",
       "      <td>18261</td>\n",
       "      <td>0.058595</td>\n",
       "    </tr>\n",
       "  </tbody>\n",
       "</table>\n",
       "</div>"
      ],
      "text/plain": [
       "              Default  Healthy  Default_Ratio\n",
       "LOAN_PURPOSE                                 \n",
       "C                1104    17961       0.061467\n",
       "N                 511    11093       0.046065\n",
       "P                1070    18261       0.058595"
      ]
     },
     "execution_count": 74,
     "metadata": {},
     "output_type": "execute_result"
    }
   ],
   "source": [
    "purpose_status['Default_Ratio'] = purpose_status['Default']/purpose_status['Healthy']\n",
    "purpose_status"
   ]
  },
  {
   "cell_type": "markdown",
   "metadata": {},
   "source": [
    "### Loan purpose comments\n",
    "\n",
    "| Code | Purpose |\n",
    "|------|---------|\n",
    "|C     |Cash-out refinance|\n",
    "|P     |Purchase|\n",
    "|N     |No Cash Out Refiance|\n",
    "\n",
    "[Cash out refinance](http://www.bankrate.com/finance/financial-literacy/when-is-cash-out-refinancing-a-good-option--1.aspx) has relatively higher default rate compared to other types. "
   ]
  },
  {
   "cell_type": "markdown",
   "metadata": {},
   "source": [
    "## Occupancy status analysis"
   ]
  },
  {
   "cell_type": "code",
   "execution_count": 75,
   "metadata": {
    "collapsed": false
   },
   "outputs": [],
   "source": [
    "occupancy_status = freddie1.groupby([lambda x: extract_status_default(freddie1, x), 'OCCUPANCY_STATUS'])['LOAN_SEQUENCE_NUMBER'].count()\n",
    "\n",
    "occupancy_status = occupancy_status.unstack(level=0)"
   ]
  },
  {
   "cell_type": "code",
   "execution_count": 76,
   "metadata": {
    "collapsed": false
   },
   "outputs": [
    {
     "data": {
      "text/html": [
       "<div>\n",
       "<table border=\"1\" class=\"dataframe\">\n",
       "  <thead>\n",
       "    <tr style=\"text-align: right;\">\n",
       "      <th></th>\n",
       "      <th>Default</th>\n",
       "      <th>Healthy</th>\n",
       "      <th>Default_Ratio</th>\n",
       "    </tr>\n",
       "    <tr>\n",
       "      <th>OCCUPANCY_STATUS</th>\n",
       "      <th></th>\n",
       "      <th></th>\n",
       "      <th></th>\n",
       "    </tr>\n",
       "  </thead>\n",
       "  <tbody>\n",
       "    <tr>\n",
       "      <th>I</th>\n",
       "      <td>102</td>\n",
       "      <td>1572</td>\n",
       "      <td>0.064885</td>\n",
       "    </tr>\n",
       "    <tr>\n",
       "      <th>O</th>\n",
       "      <td>2451</td>\n",
       "      <td>43523</td>\n",
       "      <td>0.056315</td>\n",
       "    </tr>\n",
       "    <tr>\n",
       "      <th>S</th>\n",
       "      <td>132</td>\n",
       "      <td>2220</td>\n",
       "      <td>0.059459</td>\n",
       "    </tr>\n",
       "  </tbody>\n",
       "</table>\n",
       "</div>"
      ],
      "text/plain": [
       "                  Default  Healthy  Default_Ratio\n",
       "OCCUPANCY_STATUS                                 \n",
       "I                     102     1572       0.064885\n",
       "O                    2451    43523       0.056315\n",
       "S                     132     2220       0.059459"
      ]
     },
     "execution_count": 76,
     "metadata": {},
     "output_type": "execute_result"
    }
   ],
   "source": [
    "occupancy_status['Default_Ratio'] = occupancy_status['Default']/occupancy_status['Healthy']\n",
    "occupancy_status"
   ]
  },
  {
   "cell_type": "markdown",
   "metadata": {},
   "source": [
    "### Occupancy status comments\n",
    "\n",
    "| Code | Status |\n",
    "|------|---------|\n",
    "|I     |Investment|\n",
    "|O     |Owner owned|\n",
    "|S     |Second Home|\n",
    "\n",
    "Very simple conclusion: Investment type occupancy status has a relatively higher default rate.\n"
   ]
  },
  {
   "cell_type": "markdown",
   "metadata": {},
   "source": [
    "## Geo-Location analysis"
   ]
  },
  {
   "cell_type": "code",
   "execution_count": 89,
   "metadata": {
    "collapsed": false
   },
   "outputs": [],
   "source": [
    "location_default = freddie1.groupby([lambda x: extract_status_default(freddie1, x), 'PROPERTY_STATE'])['LOAN_SEQUENCE_NUMBER'].count()\n",
    "location_total = freddie1.groupby(['PROPERTY_STATE'])['LOAN_SEQUENCE_NUMBER'].count()\n",
    "location_default_stat = pd.concat([location_default.unstack(level=0),location_total], axis = 1, join='inner')\n",
    "\n",
    "location_default_stat.columns = ['Default', 'Healthy', 'Total']\n",
    "\n",
    "location_default_stat['Default_Ratio'] = location_default_stat['Default']/location_default_stat['Total']"
   ]
  },
  {
   "cell_type": "code",
   "execution_count": 90,
   "metadata": {
    "collapsed": false
   },
   "outputs": [],
   "source": [
    "location_default_mean = location_default_stat['Default_Ratio'].mean()\n",
    "location_default_std = location_default_stat['Default_Ratio'].std()"
   ]
  },
  {
   "cell_type": "markdown",
   "metadata": {},
   "source": [
    "### States have higher than mean + 1.5 sigma default rate?"
   ]
  },
  {
   "cell_type": "code",
   "execution_count": 80,
   "metadata": {
    "collapsed": false
   },
   "outputs": [
    {
     "data": {
      "text/html": [
       "<div>\n",
       "<table border=\"1\" class=\"dataframe\">\n",
       "  <thead>\n",
       "    <tr style=\"text-align: right;\">\n",
       "      <th></th>\n",
       "      <th>Default</th>\n",
       "      <th>Healthy</th>\n",
       "      <th>Total</th>\n",
       "      <th>Default_Ratio</th>\n",
       "    </tr>\n",
       "    <tr>\n",
       "      <th>PROPERTY_STATE</th>\n",
       "      <th></th>\n",
       "      <th></th>\n",
       "      <th></th>\n",
       "      <th></th>\n",
       "    </tr>\n",
       "  </thead>\n",
       "  <tbody>\n",
       "    <tr>\n",
       "      <th>AZ</th>\n",
       "      <td>205.0</td>\n",
       "      <td>1503.0</td>\n",
       "      <td>1708</td>\n",
       "      <td>0.120023</td>\n",
       "    </tr>\n",
       "    <tr>\n",
       "      <th>FL</th>\n",
       "      <td>461.0</td>\n",
       "      <td>3312.0</td>\n",
       "      <td>3773</td>\n",
       "      <td>0.122184</td>\n",
       "    </tr>\n",
       "    <tr>\n",
       "      <th>MI</th>\n",
       "      <td>208.0</td>\n",
       "      <td>1756.0</td>\n",
       "      <td>1964</td>\n",
       "      <td>0.105906</td>\n",
       "    </tr>\n",
       "    <tr>\n",
       "      <th>NV</th>\n",
       "      <td>96.0</td>\n",
       "      <td>444.0</td>\n",
       "      <td>540</td>\n",
       "      <td>0.177778</td>\n",
       "    </tr>\n",
       "    <tr>\n",
       "      <th>RI</th>\n",
       "      <td>22.0</td>\n",
       "      <td>201.0</td>\n",
       "      <td>223</td>\n",
       "      <td>0.098655</td>\n",
       "    </tr>\n",
       "  </tbody>\n",
       "</table>\n",
       "</div>"
      ],
      "text/plain": [
       "                Default  Healthy  Total  Default_Ratio\n",
       "PROPERTY_STATE                                        \n",
       "AZ                205.0   1503.0   1708       0.120023\n",
       "FL                461.0   3312.0   3773       0.122184\n",
       "MI                208.0   1756.0   1964       0.105906\n",
       "NV                 96.0    444.0    540       0.177778\n",
       "RI                 22.0    201.0    223       0.098655"
      ]
     },
     "execution_count": 80,
     "metadata": {},
     "output_type": "execute_result"
    }
   ],
   "source": [
    "location_default_stat[location_default_stat['Default_Ratio'] > location_default_mean + 1.5*location_default_std]"
   ]
  },
  {
   "cell_type": "markdown",
   "metadata": {},
   "source": [
    "### Geo based default statistics\n",
    "\n",
    "Suprising. States with higher default rate (more than 1.5$\\sigma$ higher than the mean). Basic assumption would be CA and NY. But none of them are at the top of the list. In fact, AZ is the state with highest default rate, followed by Florida."
   ]
  },
  {
   "cell_type": "code",
   "execution_count": null,
   "metadata": {
    "collapsed": true
   },
   "outputs": [],
   "source": []
  }
 ],
 "metadata": {
  "anaconda-cloud": {},
  "kernelspec": {
   "display_name": "Python [default]",
   "language": "python",
   "name": "python3"
  },
  "language_info": {
   "codemirror_mode": {
    "name": "ipython",
    "version": 3
   },
   "file_extension": ".py",
   "mimetype": "text/x-python",
   "name": "python",
   "nbconvert_exporter": "python",
   "pygments_lexer": "ipython3",
   "version": "3.5.2"
  }
 },
 "nbformat": 4,
 "nbformat_minor": 0
}
